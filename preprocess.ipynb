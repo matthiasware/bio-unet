{
 "cells": [
  {
   "cell_type": "code",
   "execution_count": null,
   "metadata": {},
   "outputs": [],
   "source": [
    "import os\n",
    "import csv\n",
    "import numpy as np\n",
    "from matplotlib.pyplot import imshow\n",
    "import matplotlib.pyplot as plt\n",
    "from sklearn.model_selection import train_test_split\n",
    "from keras.preprocessing.image import load_img, array_to_img, ImageDataGenerator\n",
    "import preprocess\n",
    "import imageio\n",
    "import itertools"
   ]
  },
  {
   "cell_type": "code",
   "execution_count": null,
   "metadata": {},
   "outputs": [],
   "source": [
    "files = preprocess.get_files(\"data\", verbose=False)\n",
    "X, Y = preprocess.load_imgs(files[0:1])\n",
    "X = X[0]\n",
    "Y = Y[0]\n",
    "preprocess.show_img(X, Y)\n",
    "print(X.shape, Y.shape)"
   ]
  },
  {
   "cell_type": "code",
   "execution_count": null,
   "metadata": {},
   "outputs": [],
   "source": [
    "def square_img_split_idcs(img_size=2084, partition_size=512):\n",
    "    assert img_size >= partition_size, \"Cannot upsample img!\"\n",
    "    # number of partions on each axis\n",
    "    partitions = int(np.ceil(img_size / partition_size))\n",
    "    overhang = partitions * partition_size - img_size\n",
    "    overlap = int(np.floor(overhang / partitions))\n",
    "    stride = partition_size - overlap\n",
    "    \n",
    "    x_start = 0\n",
    "    y_start = 0\n",
    "    x_end = partition_size\n",
    "    y_end = partition_size\n",
    "    \n",
    "    idcs = []\n",
    "    for ix in range(partitions - 1):\n",
    "        idcs.append(slice(x_start, x_end, 1))\n",
    "        x_start += stride\n",
    "        x_end += stride\n",
    "    x_end = img_size\n",
    "    x_start = x_end - partition_size\n",
    "    idcs.append(slice(x_start, x_end, 1))\n",
    "    \n",
    "    idcs = list(itertools.product(idcs, repeat=2))\n",
    "    \n",
    "    assert len(idcs) == partitions**2\n",
    "    return idcs\n",
    "\n",
    "def split_and_store_img(X, Y, split_idcs, path, file_form, verbose=True):\n",
    "    file_form = file_form + \"{:d}_{}.png\"\n",
    "    i = 0\n",
    "    X_assembled = (np.random.random(X.shape) * 255).astype(X.dtype)  \n",
    "    Y_assembled = (np.random.random(Y.shape) * 255).astype(Y.dtype)\n",
    "    for idx in split_idcs:\n",
    "        X_part = X[idx]\n",
    "        Y_part = Y[idx]\n",
    "        X_assembled[idx] = X_part\n",
    "        Y_assembled[idx] = Y_part\n",
    "        \n",
    "        if np.sum(Y_part) > 0:\n",
    "            path_x = os.path.join(path, file_form.format(i, \"x\"))\n",
    "            path_y = os.path.join(path, file_form.format(i, \"y\"))\n",
    "            \n",
    "            imageio.imwrite(path_x, X_part)\n",
    "            imageio.imwrite(path_y, Y_part)\n",
    "            \n",
    "            X_r = imageio.imread(path_x)\n",
    "            Y_r = imageio.imread(path_y)\n",
    "            \n",
    "            assert np.sum(X_part - X_r) == 0, \"X does not match written version!\"\n",
    "            assert np.sum(Y_part - Y_r) == 0, \"Y does not match written version!\"\n",
    "            i += 1\n",
    "    assert np.sum(X - X_assembled) == 0, \"X does not match assembled version!\"\n",
    "    assert np.sum(Y - Y_assembled) == 0, \"Y does not match assembled version!\""
   ]
  },
  {
   "cell_type": "code",
   "execution_count": null,
   "metadata": {
    "scrolled": false
   },
   "outputs": [],
   "source": [
    "idcs = square_img_split_idcs(2084, 512)\n",
    "split_and_store_img(X, Y, idcs, \"augmented/\")"
   ]
  },
  {
   "cell_type": "code",
   "execution_count": null,
   "metadata": {
    "scrolled": false
   },
   "outputs": [],
   "source": [
    "preprocess.show_ndimg(X, Y)\n",
    "preprocess.show_ndimg(X)\n",
    "preprocess.show_ndimg(Y)\n",
    "x = None\n",
    "y = None\n",
    "for idx in idcs:\n",
    "    print(idx)\n",
    "    X_sub = X[idx]\n",
    "    Y_sub = Y[idx]\n",
    "    if np.sum(Y_sub) > 0:\n",
    "        preprocess.show_ndimg(X_sub, Y_sub)\n",
    "        x = X_sub\n",
    "        y = Y_sub"
   ]
  },
  {
   "cell_type": "code",
   "execution_count": null,
   "metadata": {},
   "outputs": [],
   "source": [
    "x.astype(np.uint8)"
   ]
  },
  {
   "cell_type": "code",
   "execution_count": null,
   "metadata": {},
   "outputs": [],
   "source": [
    "imageio.imwrite('X_sub.png', x)\n",
    "imageio.imwrite('Y_sub.png', y)"
   ]
  },
  {
   "cell_type": "code",
   "execution_count": null,
   "metadata": {},
   "outputs": [],
   "source": [
    "preprocess.show_ndimg(y, y_r)"
   ]
  },
  {
   "cell_type": "code",
   "execution_count": null,
   "metadata": {},
   "outputs": [],
   "source": [
    "x_r = imageio.imread(\"X_sub.png\")\n",
    "y_r = imageio.imread(\"Y_sub.png\")\n",
    "y_r = y_r.reshape((512, 512, 1)) / 255"
   ]
  },
  {
   "cell_type": "code",
   "execution_count": null,
   "metadata": {},
   "outputs": [],
   "source": [
    "print(np.sum(y_r))\n",
    "print(y_r.shape)\n",
    "print(y_r.dtype)"
   ]
  },
  {
   "cell_type": "code",
   "execution_count": null,
   "metadata": {},
   "outputs": [],
   "source": [
    "print(np.sum(y))\n",
    "print(y.shape)\n",
    "print(y.dtype)"
   ]
  },
  {
   "cell_type": "code",
   "execution_count": null,
   "metadata": {},
   "outputs": [],
   "source": [
    "X.shape"
   ]
  },
  {
   "cell_type": "code",
   "execution_count": null,
   "metadata": {},
   "outputs": [],
   "source": [
    "idx = (slice(0, 512), slice(0, 512))"
   ]
  },
  {
   "cell_type": "code",
   "execution_count": null,
   "metadata": {},
   "outputs": [],
   "source": [
    "X[idx].shape"
   ]
  },
  {
   "cell_type": "code",
   "execution_count": null,
   "metadata": {},
   "outputs": [],
   "source": []
  },
  {
   "cell_type": "code",
   "execution_count": null,
   "metadata": {
    "scrolled": false
   },
   "outputs": [],
   "source": [
    "img_size = 512\n",
    "sub_imgs = []\n",
    "slides = int(np.ceil(2084 / img_size))\n",
    "extra = slides * img_size - 2084\n",
    "overlap = int(np.floor(extra / slides))\n",
    "stride = img_size - overlap\n",
    "\n",
    "idcs = []\n",
    "x_start = 0\n",
    "x_end = 512\n",
    "y_start = 0\n",
    "y_end = 512\n",
    "for ix in range(slides - 1):\n",
    "    y_start = 0\n",
    "    y_end = 512\n",
    "    for iy in range(slides - 1):\n",
    "        print(x_start, x_end, y_start, y_end)\n",
    "        idcs.append((x_start, x_end, y_start, y_end))\n",
    "        y_start += stride\n",
    "        y_end += stride\n",
    "    y_end = 2084\n",
    "    y_start = y_end - 512\n",
    "    print(x_start, x_end, y_start, y_end)\n",
    "    idcs.append((x_start, x_end, y_start, y_end))\n",
    "    x_start += stride\n",
    "    x_end += stride\n",
    "x_end = 2084\n",
    "x_start = x_end - 512\n",
    "y_start = 0\n",
    "y_end = 512\n",
    "for _ in range(slides - 1):\n",
    "    print(x_start, x_end, y_start, y_end)\n",
    "    idcs.append((x_start, x_end, y_start, y_end))\n",
    "    y_start += stride\n",
    "    y_end += stride\n",
    "y_end = 2084\n",
    "y_start = y_end - 512\n",
    "print(x_start, x_end, y_start, y_end)\n",
    "idcs.append((x_start, x_end, y_start, y_end))\n",
    "    \n",
    "        #x_sub = X[ix * img_size : (ix + 1) * img_size, iy * img_size : (iy + 1) * img_size, :]\n",
    "        #y_sub = Y[ix * img_size : (ix + 1) * img_size, iy * img_size : (iy + 1) * img_size, :]\n",
    "        #preprocess.show_ndimg(x_sub, y_sub)"
   ]
  },
  {
   "cell_type": "code",
   "execution_count": null,
   "metadata": {},
   "outputs": [],
   "source": [
    "files = preprocess.get_files(\"data\", verbose=False)\n",
    "X, Y = preprocess.load_imgs(files)"
   ]
  },
  {
   "cell_type": "code",
   "execution_count": null,
   "metadata": {},
   "outputs": [],
   "source": [
    "idcs = square_img_split_idcs(2084, 512)\n",
    "for i in range(X.shape[0]):\n",
    "    split_and_store_img(X[i], Y[i], idcs, \"data/split/\", file_form=str(i) + \"_\")"
   ]
  },
  {
   "cell_type": "code",
   "execution_count": null,
   "metadata": {},
   "outputs": [],
   "source": [
    "[i]"
   ]
  }
 ],
 "metadata": {
  "kernelspec": {
   "display_name": "Python 3",
   "language": "python",
   "name": "python3"
  },
  "language_info": {
   "codemirror_mode": {
    "name": "ipython",
    "version": 3
   },
   "file_extension": ".py",
   "mimetype": "text/x-python",
   "name": "python",
   "nbconvert_exporter": "python",
   "pygments_lexer": "ipython3",
   "version": "3.6.3"
  }
 },
 "nbformat": 4,
 "nbformat_minor": 2
}
