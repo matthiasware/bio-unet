{
 "cells": [
  {
   "cell_type": "code",
   "execution_count": null,
   "metadata": {},
   "outputs": [],
   "source": [
    "from keras import backend as K\n",
    "import numpy as np"
   ]
  },
  {
   "cell_type": "code",
   "execution_count": 41,
   "metadata": {},
   "outputs": [],
   "source": [
    "y_true_np = np.array([[1, 0, 0],\n",
    "                      [1, 0, 0],\n",
    "                      [0, 0, 1]])\n",
    "y_pred_np = np.array([[0.6, 0.1, 0.2],\n",
    "                      [0.4, 0.2, 0.3],\n",
    "                      [0.1, 0.2, 0.3]])\n",
    "y_true = K.variable(value=y_true_np)\n",
    "y_pred = K.variable(value=y_pred_np)"
   ]
  },
  {
   "cell_type": "code",
   "execution_count": 5,
   "metadata": {},
   "outputs": [
    {
     "data": {
      "text/plain": [
       "0.56666666"
      ]
     },
     "execution_count": 5,
     "metadata": {},
     "output_type": "execute_result"
    }
   ],
   "source": [
    "# MAE on ones only\n",
    "K.eval(K.sum(y_true - y_true * y_pred) / K.sum(y_true))"
   ]
  },
  {
   "cell_type": "code",
   "execution_count": 6,
   "metadata": {},
   "outputs": [
    {
     "data": {
      "text/plain": [
       "0.18333334"
      ]
     },
     "execution_count": 6,
     "metadata": {},
     "output_type": "execute_result"
    }
   ],
   "source": [
    "# MAE on zeros only\n",
    "K.eval(K.sum((1 - y_true) * y_pred ) / K.sum(1 - y_true))"
   ]
  },
  {
   "cell_type": "code",
   "execution_count": 61,
   "metadata": {},
   "outputs": [
    {
     "data": {
      "text/plain": [
       "array([[ True,  True,  True],\n",
       "       [False,  True,  True],\n",
       "       [ True,  True, False]], dtype=bool)"
      ]
     },
     "execution_count": 61,
     "metadata": {},
     "output_type": "execute_result"
    }
   ],
   "source": [
    "K.eval(K.equal(y_true, K.round(y_pred)))"
   ]
  },
  {
   "cell_type": "code",
   "execution_count": 7,
   "metadata": {},
   "outputs": [
    {
     "data": {
      "text/plain": [
       "0.77777779"
      ]
     },
     "execution_count": 7,
     "metadata": {},
     "output_type": "execute_result"
    }
   ],
   "source": [
    "# accuracy\n",
    "K.eval(K.mean(K.equal(y_true, K.round(y_pred))))"
   ]
  },
  {
   "cell_type": "code",
   "execution_count": 28,
   "metadata": {},
   "outputs": [
    {
     "data": {
      "text/plain": [
       "0.33333334"
      ]
     },
     "execution_count": 28,
     "metadata": {},
     "output_type": "execute_result"
    }
   ],
   "source": [
    "# accuracy on ones\n",
    "K.eval(K.sum(K.round(y_true * y_pred)) / K.sum(y_true))\n"
   ]
  },
  {
   "cell_type": "code",
   "execution_count": 71,
   "metadata": {},
   "outputs": [
    {
     "data": {
      "text/plain": [
       "0.33333334"
      ]
     },
     "execution_count": 71,
     "metadata": {},
     "output_type": "execute_result"
    }
   ],
   "source": [
    "nom = K.sum(K.round(y_true * y_pred))\n",
    "den = K.sum(y_true)\n",
    "K.eval(nom / den)"
   ]
  },
  {
   "cell_type": "code",
   "execution_count": 82,
   "metadata": {},
   "outputs": [
    {
     "name": "stdout",
     "output_type": "stream",
     "text": [
      "1.0\n"
     ]
    }
   ],
   "source": [
    "# accuracy on zeros\n",
    "den = 1 - y_true\n",
    "nom = (1 - y_pred) * den\n",
    "nom = K.round(nom)\n",
    "den = K.sum(den)\n",
    "nom = K.sum(nom)\n",
    "print(K.eval(nom / den))\n",
    "#K.eval(K.sum(1 - (1 - y_true) * K.round(y_pred)) / K.sum(1 - y_true))\n",
    "#K.eval(K.sum(K.round(y_true * y_pred)) / K.sum(y_true))"
   ]
  },
  {
   "cell_type": "code",
   "execution_count": 43,
   "metadata": {},
   "outputs": [
    {
     "name": "stdout",
     "output_type": "stream",
     "text": [
      "[[ 1.  0.  0.]\n",
      " [ 1.  0.  0.]\n",
      " [ 0.  0.  1.]]\n",
      "[[ 0.60000002  0.1         0.2       ]\n",
      " [ 0.40000001  0.2         0.30000001]\n",
      " [ 0.1         0.2         0.30000001]]\n"
     ]
    }
   ],
   "source": [
    "print(K.eval(y_true))\n",
    "print(K.eval(y_pred))"
   ]
  },
  {
   "cell_type": "code",
   "execution_count": 54,
   "metadata": {},
   "outputs": [
    {
     "data": {
      "text/plain": [
       "1.0"
      ]
     },
     "execution_count": 54,
     "metadata": {},
     "output_type": "execute_result"
    }
   ],
   "source": [
    "K.eval(K.sum(K.round(1 - (1 - y_true) * y_pred) * (1 - y_true)) / K.sum(1 - y_true))"
   ]
  },
  {
   "cell_type": "code",
   "execution_count": 55,
   "metadata": {},
   "outputs": [
    {
     "data": {
      "text/plain": [
       "array([[ 0.60000002,  0.1       ,  0.2       ],\n",
       "       [ 0.40000001,  0.2       ,  0.30000001],\n",
       "       [ 0.1       ,  0.2       ,  0.30000001]], dtype=float32)"
      ]
     },
     "execution_count": 55,
     "metadata": {},
     "output_type": "execute_result"
    }
   ],
   "source": [
    "K.eval(y_pred)"
   ]
  },
  {
   "cell_type": "code",
   "execution_count": 56,
   "metadata": {},
   "outputs": [],
   "source": [
    "yt = 1 - y_true\n",
    "yp = 1 - y_pred"
   ]
  },
  {
   "cell_type": "code",
   "execution_count": 59,
   "metadata": {},
   "outputs": [],
   "source": [
    "def metrics_acc_ones(y_true, y_pred):\n",
    "    return K.sum(K.round(y_true * y_pred)) / K.sum(y_true)"
   ]
  },
  {
   "cell_type": "code",
   "execution_count": 60,
   "metadata": {},
   "outputs": [
    {
     "data": {
      "text/plain": [
       "1.0"
      ]
     },
     "execution_count": 60,
     "metadata": {},
     "output_type": "execute_result"
    }
   ],
   "source": [
    "K.eval(metrics_acc_ones(yt, yp))"
   ]
  },
  {
   "cell_type": "code",
   "execution_count": 102,
   "metadata": {},
   "outputs": [],
   "source": [
    "def mae_zeros(y_true, y_pred):\n",
    "    return K.sum((1 - y_true) * y_pred ) / K.sum(1 - y_true)\n",
    "\n",
    "def mae_ones(y_true, y_pred):\n",
    "    return K.sum(y_true - (y_true * y_pred)) / K.sum(y_true)\n",
    "\n",
    "def acc_ones(y_true, y_pred):\n",
    "    return K.eval(K.sum(K.round(y_true * y_pred)) / K.sum(y_true))\n",
    "\n",
    "def acc_zeros(y_true, y_pred):\n",
    "    den = 1 - y_true\n",
    "    nom = (1 - y_pred) * den\n",
    "    nom = K.round(nom)\n",
    "    den = K.sum(den)\n",
    "    nom = K.sum(nom)\n",
    "    return nom / den\n",
    "\n",
    "def acc_custom(y_true, y_pred):\n",
    "    return K.mean(K.equal(y_true, K.round(y_pred)))"
   ]
  },
  {
   "cell_type": "code",
   "execution_count": 108,
   "metadata": {},
   "outputs": [],
   "source": [
    "y_true_np = np.array([[1, 0, 0, 0],\n",
    "                      [1, 0, 0, 1],\n",
    "                      [0, 0, 0, 1],\n",
    "                      [0, 0, 0, 0]])\n",
    "y_pred_np = np.array([[0.6, 0.1, 0.2, 0.5],\n",
    "                      [0.4, 0.2, 0.3, 0.7],\n",
    "                      [0.1, 0.2, 0.3, 0.4],\n",
    "                      [0.1, 0.2, 0.3, 0.8]])\n",
    "y_true = K.variable(value=y_true_np)\n",
    "y_pred = K.variable(value=y_pred_np)"
   ]
  },
  {
   "cell_type": "code",
   "execution_count": 119,
   "metadata": {},
   "outputs": [
    {
     "name": "stdout",
     "output_type": "stream",
     "text": [
      "0.275 0.275\n"
     ]
    }
   ],
   "source": [
    "mea_zeros_np = np.sum((0.1, 0.2, 0.5, 0.2, 0.3, 0.1, 0.2, 0.3, 0.1, 0.2, 0.3, 0.8)) / 12\n",
    "mae_zeros_tf = K.eval(mae_zeros(y_true, y_pred))\n",
    "print(mea_zeros_np, mae_zeros_tf)\n",
    "assert abs(mea_zeros_np - mae_zeros_tf) < 1e-7"
   ]
  },
  {
   "cell_type": "code",
   "execution_count": 127,
   "metadata": {},
   "outputs": [
    {
     "name": "stdout",
     "output_type": "stream",
     "text": [
      "0.475 0.475\n"
     ]
    }
   ],
   "source": [
    "mae_ones_np = np.sum((1 - 0.6, 1 - 0.4, 1 - 0.7, 1 - 0.4)) / 4\n",
    "mae_ones_tf = K.eval(mae_ones(y_true, y_pred))\n",
    "print(mae_ones_np, mae_ones_tf)\n",
    "assert abs(mae_ones_np - mae_ones_tf) < 1e-7"
   ]
  },
  {
   "cell_type": "code",
   "execution_count": 121,
   "metadata": {},
   "outputs": [
    {
     "name": "stdout",
     "output_type": "stream",
     "text": [
      "0.5 0.5\n"
     ]
    }
   ],
   "source": [
    "acc_ones_np = np.sum((1, 0, 0, 1)) / 4\n",
    "acc_ones_tf = acc_ones(y_true, y_pred)\n",
    "print(acc_ones_np, acc_ones_tf)\n",
    "assert abs(acc_ones_np - acc_ones_tf) < 1e-7"
   ]
  },
  {
   "cell_type": "code",
   "execution_count": 124,
   "metadata": {},
   "outputs": [
    {
     "name": "stdout",
     "output_type": "stream",
     "text": [
      "0.833333333333 0.833333\n"
     ]
    }
   ],
   "source": [
    "acc_zeros_np = np.sum((1, 1, 0, 1, 1, 1, 1, 1, 1, 1, 1, 0)) / 12\n",
    "acc_zeros_tf = K.eval(acc_zeros(y_true, y_pred))\n",
    "print(acc_zeros_np, acc_zeros_tf)\n",
    "assert abs(acc_zeros_np - acc_zeros_tf) < 1e-7"
   ]
  },
  {
   "cell_type": "code",
   "execution_count": 123,
   "metadata": {},
   "outputs": [
    {
     "name": "stdout",
     "output_type": "stream",
     "text": [
      "0.8125 0.8125\n"
     ]
    }
   ],
   "source": [
    "acc_custom_np = np.sum((1, 1, 1, 1,\n",
    "                        0, 1, 1, 1,\n",
    "                        1, 1, 1, 0,\n",
    "                        1, 1, 1, 0)) / 16\n",
    "acc_custom_tf = K.eval(acc_custom(y_true, y_pred))\n",
    "print(acc_custom_np, acc_custom_tf)\n",
    "assert abs(acc_custom_np - acc_custom_tf) < 1e-7"
   ]
  },
  {
   "cell_type": "code",
   "execution_count": 134,
   "metadata": {},
   "outputs": [
    {
     "name": "stdout",
     "output_type": "stream",
     "text": [
      "[[ 1.  0.  0.  0.]\n",
      " [ 0.  0.  0.  1.]\n",
      " [ 0.  0.  0.  0.]\n",
      " [ 0.  0.  0.  1.]]\n",
      "[[ 1.  0.  0.  0.]\n",
      " [ 1.  0.  0.  1.]\n",
      " [ 0.  0.  0.  1.]\n",
      " [ 0.  0.  0.  0.]]\n"
     ]
    }
   ],
   "source": [
    "print(K.eval(K.round(y_pred)))\n",
    "print(K.eval(y_true))"
   ]
  },
  {
   "cell_type": "code",
   "execution_count": 133,
   "metadata": {},
   "outputs": [
    {
     "data": {
      "text/plain": [
       "array([[ 1.,  0.,  0.,  0.],\n",
       "       [ 0.,  0.,  0.,  1.],\n",
       "       [ 0.,  0.,  0.,  0.],\n",
       "       [ 0.,  0.,  0.,  1.]], dtype=float32)"
      ]
     },
     "execution_count": 133,
     "metadata": {},
     "output_type": "execute_result"
    }
   ],
   "source": [
    "# true positives\n",
    "print(K.eval(K.round(y_pred)))"
   ]
  },
  {
   "cell_type": "code",
   "execution_count": 129,
   "metadata": {},
   "outputs": [],
   "source": [
    "# true negatives"
   ]
  },
  {
   "cell_type": "code",
   "execution_count": 130,
   "metadata": {},
   "outputs": [],
   "source": [
    "# false negatives"
   ]
  },
  {
   "cell_type": "code",
   "execution_count": 131,
   "metadata": {},
   "outputs": [],
   "source": [
    "# false positives"
   ]
  },
  {
   "cell_type": "code",
   "execution_count": null,
   "metadata": {},
   "outputs": [],
   "source": []
  }
 ],
 "metadata": {
  "kernelspec": {
   "display_name": "Python 3",
   "language": "python",
   "name": "python3"
  },
  "language_info": {
   "codemirror_mode": {
    "name": "ipython",
    "version": 3
   },
   "file_extension": ".py",
   "mimetype": "text/x-python",
   "name": "python",
   "nbconvert_exporter": "python",
   "pygments_lexer": "ipython3",
   "version": "3.6.3"
  }
 },
 "nbformat": 4,
 "nbformat_minor": 2
}
