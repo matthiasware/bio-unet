{
 "cells": [
  {
   "cell_type": "code",
   "execution_count": 74,
   "metadata": {},
   "outputs": [],
   "source": [
    "from keras import backend as K\n",
    "import numpy as np\n",
    "import tensorflow as tf\n",
    "from sklearn.metrics import confusion_matrix"
   ]
  },
  {
   "cell_type": "code",
   "execution_count": 3,
   "metadata": {},
   "outputs": [],
   "source": [
    "y_true_np = np.array([[1, 0, 0],\n",
    "                      [1, 0, 0],\n",
    "                      [0, 0, 1]])\n",
    "y_pred_np = np.array([[0.6, 0.1, 0.2],\n",
    "                      [0.4, 0.2, 0.3],\n",
    "                      [0.1, 0.2, 0.3]])\n",
    "y_true = K.variable(value=y_true_np)\n",
    "y_pred = K.variable(value=y_pred_np)"
   ]
  },
  {
   "cell_type": "code",
   "execution_count": 4,
   "metadata": {},
   "outputs": [
    {
     "data": {
      "text/plain": [
       "0.56666666"
      ]
     },
     "execution_count": 4,
     "metadata": {},
     "output_type": "execute_result"
    }
   ],
   "source": [
    "# MAE on ones only\n",
    "K.eval(K.sum(y_true - y_true * y_pred) / K.sum(y_true))"
   ]
  },
  {
   "cell_type": "code",
   "execution_count": 5,
   "metadata": {},
   "outputs": [
    {
     "data": {
      "text/plain": [
       "0.18333334"
      ]
     },
     "execution_count": 5,
     "metadata": {},
     "output_type": "execute_result"
    }
   ],
   "source": [
    "# MAE on zeros only\n",
    "K.eval(K.sum((1 - y_true) * y_pred ) / K.sum(1 - y_true))"
   ]
  },
  {
   "cell_type": "code",
   "execution_count": 6,
   "metadata": {},
   "outputs": [
    {
     "data": {
      "text/plain": [
       "array([[ True,  True,  True],\n",
       "       [False,  True,  True],\n",
       "       [ True,  True, False]], dtype=bool)"
      ]
     },
     "execution_count": 6,
     "metadata": {},
     "output_type": "execute_result"
    }
   ],
   "source": [
    "K.eval(K.equal(y_true, K.round(y_pred)))"
   ]
  },
  {
   "cell_type": "code",
   "execution_count": 7,
   "metadata": {},
   "outputs": [
    {
     "data": {
      "text/plain": [
       "0.77777779"
      ]
     },
     "execution_count": 7,
     "metadata": {},
     "output_type": "execute_result"
    }
   ],
   "source": [
    "# accuracy\n",
    "K.eval(K.mean(K.equal(y_true, K.round(y_pred))))"
   ]
  },
  {
   "cell_type": "code",
   "execution_count": 8,
   "metadata": {},
   "outputs": [
    {
     "data": {
      "text/plain": [
       "0.33333334"
      ]
     },
     "execution_count": 8,
     "metadata": {},
     "output_type": "execute_result"
    }
   ],
   "source": [
    "# accuracy on ones\n",
    "K.eval(K.sum(K.round(y_true * y_pred)) / K.sum(y_true))\n"
   ]
  },
  {
   "cell_type": "code",
   "execution_count": 9,
   "metadata": {},
   "outputs": [
    {
     "data": {
      "text/plain": [
       "0.33333334"
      ]
     },
     "execution_count": 9,
     "metadata": {},
     "output_type": "execute_result"
    }
   ],
   "source": [
    "nom = K.sum(K.round(y_true * y_pred))\n",
    "den = K.sum(y_true)\n",
    "K.eval(nom / den)"
   ]
  },
  {
   "cell_type": "code",
   "execution_count": 10,
   "metadata": {},
   "outputs": [
    {
     "name": "stdout",
     "output_type": "stream",
     "text": [
      "1.0\n"
     ]
    }
   ],
   "source": [
    "# accuracy on zeros\n",
    "den = 1 - y_true\n",
    "nom = (1 - y_pred) * den\n",
    "nom = K.round(nom)\n",
    "den = K.sum(den)\n",
    "nom = K.sum(nom)\n",
    "print(K.eval(nom / den))\n",
    "#K.eval(K.sum(1 - (1 - y_true) * K.round(y_pred)) / K.sum(1 - y_true))\n",
    "#K.eval(K.sum(K.round(y_true * y_pred)) / K.sum(y_true))"
   ]
  },
  {
   "cell_type": "code",
   "execution_count": 11,
   "metadata": {},
   "outputs": [
    {
     "name": "stdout",
     "output_type": "stream",
     "text": [
      "[[ 1.  0.  0.]\n",
      " [ 1.  0.  0.]\n",
      " [ 0.  0.  1.]]\n",
      "[[ 0.60000002  0.1         0.2       ]\n",
      " [ 0.40000001  0.2         0.30000001]\n",
      " [ 0.1         0.2         0.30000001]]\n"
     ]
    }
   ],
   "source": [
    "print(K.eval(y_true))\n",
    "print(K.eval(y_pred))"
   ]
  },
  {
   "cell_type": "code",
   "execution_count": 12,
   "metadata": {},
   "outputs": [
    {
     "data": {
      "text/plain": [
       "1.0"
      ]
     },
     "execution_count": 12,
     "metadata": {},
     "output_type": "execute_result"
    }
   ],
   "source": [
    "K.eval(K.sum(K.round(1 - (1 - y_true) * y_pred) * (1 - y_true)) / K.sum(1 - y_true))"
   ]
  },
  {
   "cell_type": "code",
   "execution_count": 13,
   "metadata": {},
   "outputs": [
    {
     "data": {
      "text/plain": [
       "array([[ 0.60000002,  0.1       ,  0.2       ],\n",
       "       [ 0.40000001,  0.2       ,  0.30000001],\n",
       "       [ 0.1       ,  0.2       ,  0.30000001]], dtype=float32)"
      ]
     },
     "execution_count": 13,
     "metadata": {},
     "output_type": "execute_result"
    }
   ],
   "source": [
    "K.eval(y_pred)"
   ]
  },
  {
   "cell_type": "code",
   "execution_count": 14,
   "metadata": {},
   "outputs": [],
   "source": [
    "yt = 1 - y_true\n",
    "yp = 1 - y_pred"
   ]
  },
  {
   "cell_type": "code",
   "execution_count": 15,
   "metadata": {},
   "outputs": [],
   "source": [
    "def metrics_acc_ones(y_true, y_pred):\n",
    "    return K.sum(K.round(y_true * y_pred)) / K.sum(y_true)"
   ]
  },
  {
   "cell_type": "code",
   "execution_count": 16,
   "metadata": {},
   "outputs": [
    {
     "data": {
      "text/plain": [
       "1.0"
      ]
     },
     "execution_count": 16,
     "metadata": {},
     "output_type": "execute_result"
    }
   ],
   "source": [
    "K.eval(metrics_acc_ones(yt, yp))"
   ]
  },
  {
   "cell_type": "code",
   "execution_count": 17,
   "metadata": {},
   "outputs": [],
   "source": [
    "def mae_zeros(y_true, y_pred):\n",
    "    return K.sum((1 - y_true) * y_pred ) / K.sum(1 - y_true)\n",
    "\n",
    "def mae_ones(y_true, y_pred):\n",
    "    return K.sum(y_true - (y_true * y_pred)) / K.sum(y_true)\n",
    "\n",
    "def acc_ones(y_true, y_pred):\n",
    "    return K.eval(K.sum(K.round(y_true * y_pred)) / K.sum(y_true))\n",
    "\n",
    "def acc_zeros(y_true, y_pred):\n",
    "    den = 1 - y_true\n",
    "    nom = (1 - y_pred) * den\n",
    "    nom = K.round(nom)\n",
    "    den = K.sum(den)\n",
    "    nom = K.sum(nom)\n",
    "    return nom / den\n",
    "\n",
    "def acc_custom(y_true, y_pred):\n",
    "    return K.mean(K.equal(y_true, K.round(y_pred)))"
   ]
  },
  {
   "cell_type": "code",
   "execution_count": 18,
   "metadata": {},
   "outputs": [],
   "source": [
    "y_true_np = np.array([[1, 0, 0, 0],\n",
    "                      [1, 0, 0, 1],\n",
    "                      [0, 0, 0, 1],\n",
    "                      [0, 0, 0, 0]])\n",
    "y_pred_np = np.array([[0.6, 0.1, 0.2, 0.5],\n",
    "                      [0.4, 0.2, 0.3, 0.7],\n",
    "                      [0.1, 0.2, 0.3, 0.4],\n",
    "                      [0.1, 0.2, 0.3, 0.8]])\n",
    "y_true = K.variable(value=y_true_np)\n",
    "y_pred = K.variable(value=y_pred_np)"
   ]
  },
  {
   "cell_type": "code",
   "execution_count": 19,
   "metadata": {},
   "outputs": [
    {
     "name": "stdout",
     "output_type": "stream",
     "text": [
      "0.275 0.275\n"
     ]
    }
   ],
   "source": [
    "mea_zeros_np = np.sum((0.1, 0.2, 0.5, 0.2, 0.3, 0.1, 0.2, 0.3, 0.1, 0.2, 0.3, 0.8)) / 12\n",
    "mae_zeros_tf = K.eval(mae_zeros(y_true, y_pred))\n",
    "print(mea_zeros_np, mae_zeros_tf)\n",
    "assert abs(mea_zeros_np - mae_zeros_tf) < 1e-7"
   ]
  },
  {
   "cell_type": "code",
   "execution_count": 20,
   "metadata": {},
   "outputs": [
    {
     "name": "stdout",
     "output_type": "stream",
     "text": [
      "0.475 0.475\n"
     ]
    }
   ],
   "source": [
    "mae_ones_np = np.sum((1 - 0.6, 1 - 0.4, 1 - 0.7, 1 - 0.4)) / 4\n",
    "mae_ones_tf = K.eval(mae_ones(y_true, y_pred))\n",
    "print(mae_ones_np, mae_ones_tf)\n",
    "assert abs(mae_ones_np - mae_ones_tf) < 1e-7"
   ]
  },
  {
   "cell_type": "code",
   "execution_count": 21,
   "metadata": {},
   "outputs": [
    {
     "name": "stdout",
     "output_type": "stream",
     "text": [
      "0.5 0.5\n"
     ]
    }
   ],
   "source": [
    "acc_ones_np = np.sum((1, 0, 0, 1)) / 4\n",
    "acc_ones_tf = acc_ones(y_true, y_pred)\n",
    "print(acc_ones_np, acc_ones_tf)\n",
    "assert abs(acc_ones_np - acc_ones_tf) < 1e-7"
   ]
  },
  {
   "cell_type": "code",
   "execution_count": 22,
   "metadata": {},
   "outputs": [
    {
     "name": "stdout",
     "output_type": "stream",
     "text": [
      "0.833333333333 0.833333\n"
     ]
    }
   ],
   "source": [
    "acc_zeros_np = np.sum((1, 1, 0, 1, 1, 1, 1, 1, 1, 1, 1, 0)) / 12\n",
    "acc_zeros_tf = K.eval(acc_zeros(y_true, y_pred))\n",
    "print(acc_zeros_np, acc_zeros_tf)\n",
    "assert abs(acc_zeros_np - acc_zeros_tf) < 1e-7"
   ]
  },
  {
   "cell_type": "code",
   "execution_count": 23,
   "metadata": {},
   "outputs": [
    {
     "name": "stdout",
     "output_type": "stream",
     "text": [
      "0.8125 0.8125\n"
     ]
    }
   ],
   "source": [
    "acc_custom_np = np.sum((1, 1, 1, 1,\n",
    "                        0, 1, 1, 1,\n",
    "                        1, 1, 1, 0,\n",
    "                        1, 1, 1, 0)) / 16\n",
    "acc_custom_tf = K.eval(acc_custom(y_true, y_pred))\n",
    "print(acc_custom_np, acc_custom_tf)\n",
    "assert abs(acc_custom_np - acc_custom_tf) < 1e-7"
   ]
  },
  {
   "cell_type": "code",
   "execution_count": 24,
   "metadata": {},
   "outputs": [
    {
     "name": "stdout",
     "output_type": "stream",
     "text": [
      "[[ 1.  0.  0.  0.]\n",
      " [ 0.  0.  0.  1.]\n",
      " [ 0.  0.  0.  0.]\n",
      " [ 0.  0.  0.  1.]]\n",
      "[[ 1.  0.  0.  0.]\n",
      " [ 1.  0.  0.  1.]\n",
      " [ 0.  0.  0.  1.]\n",
      " [ 0.  0.  0.  0.]]\n"
     ]
    }
   ],
   "source": [
    "print(K.eval(K.round(y_pred)))\n",
    "print(K.eval(y_true))"
   ]
  },
  {
   "cell_type": "code",
   "execution_count": 25,
   "metadata": {},
   "outputs": [
    {
     "name": "stdout",
     "output_type": "stream",
     "text": [
      "[[ 1.  0.  0.  0.]\n",
      " [ 0.  0.  0.  1.]\n",
      " [ 0.  0.  0.  0.]\n",
      " [ 0.  0.  0.  1.]]\n"
     ]
    }
   ],
   "source": [
    "# true positives\n",
    "print(K.eval(K.round(y_pred)))"
   ]
  },
  {
   "cell_type": "code",
   "execution_count": 47,
   "metadata": {},
   "outputs": [
    {
     "name": "stdout",
     "output_type": "stream",
     "text": [
      "Y_true\n",
      " [[ 1.  0.  0.  0.]\n",
      " [ 1.  0.  0.  1.]\n",
      " [ 0.  0.  0.  1.]\n",
      " [ 0.  0.  0.  0.]]\n",
      "Y_round\n",
      " [[ 1.  0.  0.  0.]\n",
      " [ 0.  0.  0.  1.]\n",
      " [ 0.  0.  0.  0.]\n",
      " [ 0.  0.  0.  1.]]\n",
      "Y_pred\n",
      " [[ 0.60000002  0.1         0.2         0.5       ]\n",
      " [ 0.40000001  0.2         0.30000001  0.69999999]\n",
      " [ 0.1         0.2         0.30000001  0.40000001]\n",
      " [ 0.1         0.2         0.30000001  0.80000001]]\n"
     ]
    }
   ],
   "source": [
    "# true negatives\n",
    "y_pred_round = K.round(y_pred)\n",
    "print(\"Y_true\\n\", K.eval(y_true))\n",
    "print(\"Y_round\\n\", K.eval(y_pred_round))\n",
    "print(\"Y_pred\\n\", K.eval(y_pred))"
   ]
  },
  {
   "cell_type": "code",
   "execution_count": 70,
   "metadata": {},
   "outputs": [
    {
     "data": {
      "text/plain": [
       "16"
      ]
     },
     "execution_count": 70,
     "metadata": {},
     "output_type": "execute_result"
    }
   ],
   "source": [
    "K.eval(tf.size(y_true))"
   ]
  },
  {
   "cell_type": "code",
   "execution_count": 115,
   "metadata": {},
   "outputs": [],
   "source": [
    "def true_positives(y_true, y_pred):\n",
    "    y_tp = tf.logical_and(y_true > 0,y_pred > 0)\n",
    "    y_tp = tf.reduce_sum(tf.cast(y_tp, tf.float32))\n",
    "    return y_tp / tf.cast(tf.size(y_true), tf.float32)\n",
    "def true_negatives(y_true, y_pred):\n",
    "    y_tn = tf.logical_and(y_true < 1,y_pred < 1)\n",
    "    y_tn = tf.reduce_sum(tf.cast(y_tn, tf.float32))\n",
    "    return y_tn / tf.cast(tf.size(y_true), tf.float32)\n",
    "def false_positives(y_true, y_pred):\n",
    "    y_fp = tf.logical_and(y_true < 1,y_pred > 0)\n",
    "    y_fp = tf.reduce_sum(tf.cast(y_fp, tf.float32))\n",
    "    return y_fp / tf.cast(tf.size(y_true), tf.float32)\n",
    "def false_negatives(y_true, y_pred):\n",
    "    y_fn = tf.logical_and(y_true > 0,y_pred < 1)\n",
    "    y_fn = tf.reduce_sum(tf.cast(y_fn, tf.float32))\n",
    "    return y_fn / tf.cast(tf.size(y_true), tf.float32)"
   ]
  },
  {
   "cell_type": "code",
   "execution_count": 113,
   "metadata": {},
   "outputs": [
    {
     "data": {
      "text/plain": [
       "0.25220001"
      ]
     },
     "execution_count": 113,
     "metadata": {},
     "output_type": "execute_result"
    }
   ],
   "source": [
    "K.eval(true_positives(y_true, y_pred))"
   ]
  },
  {
   "cell_type": "code",
   "execution_count": 98,
   "metadata": {},
   "outputs": [
    {
     "data": {
      "text/plain": [
       "0.25220001"
      ]
     },
     "execution_count": 98,
     "metadata": {},
     "output_type": "execute_result"
    }
   ],
   "source": [
    "# TP\n",
    "y_tp = tf.logical_and(y_true > 0,y_pred > 0)\n",
    "y_tp = tf.reduce_sum(tf.cast(y_tp, tf.float32))\n",
    "K.eval(y_tp / tf.cast(tf.size(y_true), tf.float32))\n",
    "# K.eval(tf.size(y_true))"
   ]
  },
  {
   "cell_type": "code",
   "execution_count": 53,
   "metadata": {},
   "outputs": [
    {
     "data": {
      "text/plain": [
       "11.0"
      ]
     },
     "execution_count": 53,
     "metadata": {},
     "output_type": "execute_result"
    }
   ],
   "source": [
    "# TN\n",
    "y_tn = tf.logical_and(y_true < 1,y_pred_round < 1)\n",
    "y_tn = tf.reduce_sum(tf.cast(y_tn, tf.float32))\n",
    "K.eval(y_tn)"
   ]
  },
  {
   "cell_type": "code",
   "execution_count": 54,
   "metadata": {},
   "outputs": [
    {
     "data": {
      "text/plain": [
       "1.0"
      ]
     },
     "execution_count": 54,
     "metadata": {},
     "output_type": "execute_result"
    }
   ],
   "source": [
    "# FP\n",
    "y_fp = tf.logical_and(y_true < 1,y_pred_round > 0)\n",
    "y_fp = tf.reduce_sum(tf.cast(y_fp, tf.float32))\n",
    "K.eval(y_fp)"
   ]
  },
  {
   "cell_type": "code",
   "execution_count": 55,
   "metadata": {},
   "outputs": [
    {
     "data": {
      "text/plain": [
       "2.0"
      ]
     },
     "execution_count": 55,
     "metadata": {},
     "output_type": "execute_result"
    }
   ],
   "source": [
    "# FN\n",
    "y_fn = tf.logical_and(y_true > 0,y_pred_round < 1)\n",
    "y_fn = tf.reduce_sum(tf.cast(y_fn, tf.float32))\n",
    "K.eval(y_fn)"
   ]
  },
  {
   "cell_type": "code",
   "execution_count": 42,
   "metadata": {},
   "outputs": [
    {
     "data": {
      "text/plain": [
       "array([[ True, False, False, False],\n",
       "       [ True, False, False,  True],\n",
       "       [False, False, False,  True],\n",
       "       [False, False, False, False]], dtype=bool)"
      ]
     },
     "execution_count": 42,
     "metadata": {},
     "output_type": "execute_result"
    }
   ],
   "source": [
    "K.eval(y_true > 0)"
   ]
  },
  {
   "cell_type": "code",
   "execution_count": null,
   "metadata": {},
   "outputs": [],
   "source": [
    "y_true_np = np.random\n",
    "y_pred_np = np.array([[0.6, 0.1, 0.2],\n",
    "                      [0.4, 0.2, 0.3],\n",
    "                      [0.1, 0.2, 0.3]])\n",
    "y_true = K.variable(value=y_true_np)\n",
    "y_pred = K.variable(value=y_pred_np)"
   ]
  },
  {
   "cell_type": "code",
   "execution_count": 82,
   "metadata": {},
   "outputs": [],
   "source": [
    "y_true_np = np.around(np.random.random((100, 100)))\n",
    "y_pred_np = np.around(np.random.random((100, 100)))\n",
    "y_true = K.variable(value=y_true_np)\n",
    "y_pred = K.variable(value=y_pred_np)"
   ]
  },
  {
   "cell_type": "code",
   "execution_count": 83,
   "metadata": {},
   "outputs": [
    {
     "name": "stdout",
     "output_type": "stream",
     "text": [
      "TN:  0.2458\n",
      "TP:  0.2522\n",
      "FN:  0.2516\n",
      "FP:  0.2504\n"
     ]
    }
   ],
   "source": [
    "tn, fp, fn, tp = confusion_matrix(y_true_np.flatten(), y_pred_np.flatten()).ravel()\n",
    "s = tn + fp + fn + tp\n",
    "print(\"TN: \", tn/s)\n",
    "print(\"TP: \", tp/s)\n",
    "print(\"FN: \", fn/s)\n",
    "print(\"FP: \", fp/s)"
   ]
  },
  {
   "cell_type": "code",
   "execution_count": 119,
   "metadata": {},
   "outputs": [
    {
     "name": "stdout",
     "output_type": "stream",
     "text": [
      "TN:  0.2458\n",
      "TP:  0.2522\n",
      "FN:  0.2516\n",
      "FP:  0.2504\n"
     ]
    }
   ],
   "source": [
    "print(\"TN: \", K.eval(true_negatives(y_true, y_pred)))\n",
    "print(\"TP: \", K.eval(true_positives(y_true, y_pred)))\n",
    "print(\"FN: \", K.eval(false_negatives(y_true, y_pred)))\n",
    "print(\"FP: \", K.eval(false_positives(y_true, y_pred)))"
   ]
  },
  {
   "cell_type": "code",
   "execution_count": null,
   "metadata": {},
   "outputs": [],
   "source": []
  }
 ],
 "metadata": {
  "kernelspec": {
   "display_name": "Python 3",
   "language": "python",
   "name": "python3"
  },
  "language_info": {
   "codemirror_mode": {
    "name": "ipython",
    "version": 3
   },
   "file_extension": ".py",
   "mimetype": "text/x-python",
   "name": "python",
   "nbconvert_exporter": "python",
   "pygments_lexer": "ipython3",
   "version": "3.6.3"
  }
 },
 "nbformat": 4,
 "nbformat_minor": 2
}
