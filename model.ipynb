{
 "cells": [
  {
   "cell_type": "code",
   "execution_count": null,
   "metadata": {},
   "outputs": [],
   "source": [
    "import numpy as np \n",
    "import pandas as pd \n",
    "import os\n",
    "import itertools\n",
    "\n",
    "from keras.models import Sequential, Model\n",
    "from keras.layers import Dense, Dropout, Flatten, Conv2D, MaxPooling2D, BatchNormalization, Input, merge, UpSampling2D, Cropping2D, ZeroPadding2D, Reshape, core, Convolution2D, Conv2DTranspose\n",
    "from keras.callbacks import EarlyStopping, ModelCheckpoint, LearningRateScheduler\n",
    "from keras import optimizers\n",
    "from keras import backend as K\n",
    "from keras.optimizers import SGD\n",
    "from keras.layers.merge import concatenate\n",
    "from keras.preprocessing.image import array_to_img\n",
    "\n",
    "from sklearn.metrics import fbeta_score\n",
    "from sklearn.model_selection import train_test_split\n",
    "\n",
    "from matplotlib.pyplot import imshow\n",
    "import matplotlib.pyplot as plt\n",
    "\n",
    "import preprocess\n",
    "from model_00 import get_model"
   ]
  },
  {
   "cell_type": "code",
   "execution_count": null,
   "metadata": {},
   "outputs": [],
   "source": [
    "X = np.load(\"{}.npy\".format(os.path.join(preprocess.d_data, preprocess.f_x_train)))\n",
    "Y = np.load(\"{}.npy\".format(os.path.join(preprocess.d_data, preprocess.f_y_train)))"
   ]
  },
  {
   "cell_type": "code",
   "execution_count": null,
   "metadata": {},
   "outputs": [],
   "source": [
    "X_train, X_valid, Y_train, Y_valid = train_test_split(X, Y, test_size=0.1)\n",
    "del X\n",
    "del Y"
   ]
  },
  {
   "cell_type": "code",
   "execution_count": null,
   "metadata": {},
   "outputs": [],
   "source": [
    "print(\"X_train\", X_train.shape)\n",
    "print(\"X_valid\", X_valid.shape)\n",
    "print(\"Y_train\", Y_train.shape)\n",
    "print(\"Y_valid\", Y_valid.shape)"
   ]
  },
  {
   "cell_type": "code",
   "execution_count": null,
   "metadata": {},
   "outputs": [],
   "source": [
    "def augment_imgarr(x, i):\n",
    "    if i % 4 == 0:\n",
    "        return np.rot90(x, k=i)\n",
    "    if i == 4:\n",
    "        return np.flip(x, 0)\n",
    "    if i == 5:\n",
    "        return np.flip(x, 1)\n",
    "    else:\n",
    "        return np.transpose(x, axes=(1, 0, 2))"
   ]
  },
  {
   "cell_type": "code",
   "execution_count": null,
   "metadata": {},
   "outputs": [],
   "source": [
    "def trainDataGenerator(X, Y, batches=1):\n",
    "    XYS = itertools.cycle(zip(X, Y))\n",
    "    while True:\n",
    "        XX = []\n",
    "        YY = []\n",
    "        for i in range(batches):\n",
    "            x, y = next(XYS)\n",
    "            x = x / 255\n",
    "            idx = np.random.randint(0, 7)\n",
    "            XX.append(augment_imgarr(x, idx))\n",
    "            YY.append(augment_imgarr(y, idx))\n",
    "        yield np.array(XX), np.array(YY)\n",
    "\n",
    "def calc_weights(y):\n",
    "    n_ones = np.sum(y)\n",
    "    n_total = y.shape[1]**2\n",
    "    w_ones = 1 - n_ones / n_total\n",
    "    w_zeros = 1 - w_ones\n",
    "    return w_ones, w_zeros\n",
    "\n",
    "def validDataGenerator(X, Y, batches=1):\n",
    "    XYS = itertools.cycle(zip(X, Y))\n",
    "    while True:\n",
    "        XX = []\n",
    "        YY = []\n",
    "        WW = []\n",
    "        for i in range(batches):\n",
    "            x, y = next(XYS)\n",
    "            x = x / 255\n",
    "            idx = np.random.randint(0, 7)\n",
    "            XX.append(augment_imgarr(x, idx))\n",
    "            y_aug = augment_imgarr(y, idx)\n",
    "            w_ones, w_zeros = calc_weights(y_aug)\n",
    "            w = y_aug * (w_ones - w_zeros) + w_zeros\n",
    "            YY.append(y_aug)\n",
    "            WW.append(w)\n",
    "        yield np.array(XX), np.array(YY), np.array(WW)"
   ]
  },
  {
   "cell_type": "code",
   "execution_count": null,
   "metadata": {},
   "outputs": [],
   "source": [
    "model = get_model(n_kernels=32, img_height=X_train.shape[1], img_width=X_train.shape[1])"
   ]
  },
  {
   "cell_type": "code",
   "execution_count": null,
   "metadata": {},
   "outputs": [],
   "source": [
    "print(model.summary())"
   ]
  },
  {
   "cell_type": "code",
   "execution_count": null,
   "metadata": {},
   "outputs": [],
   "source": [
    "# class weights\n",
    "s = np.sum(Y_train[0])\n",
    "t = 2084 * 2084 + s\n",
    "print(1 - s/t, \"\\t\", s/t)"
   ]
  },
  {
   "cell_type": "code",
   "execution_count": null,
   "metadata": {},
   "outputs": [],
   "source": [
    "model.compile(loss='binary_crossentropy',\n",
    "              optimizer=optimizers.SGD(lr=0.01, decay=1e-6, momentum=0.98, nesterov=True),\n",
    "              metrics=['accuracy'])"
   ]
  },
  {
   "cell_type": "code",
   "execution_count": null,
   "metadata": {},
   "outputs": [],
   "source": [
    "callbacks = [EarlyStopping(monitor='val_loss', patience=1, verbose=1),\n",
    "             ModelCheckpoint(\"model00.h5\", monitor='val_loss', save_best_only=True, verbose=1)]"
   ]
  },
  {
   "cell_type": "code",
   "execution_count": null,
   "metadata": {},
   "outputs": [],
   "source": [
    "train_generator = trainDataGenerator(X_train, Y_train, 1)\n",
    "valid_generator = validDataGenerator(X_valid, Y_valid, 1)"
   ]
  },
  {
   "cell_type": "code",
   "execution_count": null,
   "metadata": {},
   "outputs": [],
   "source": [
    "model.fit_generator(generator=train_generator,\n",
    "                    steps_per_epoch=50,\n",
    "                    epochs=10,\n",
    "                    verbose=2,\n",
    "                    callbacks=callbacks,\n",
    "                    validation_data=valid_generator,\n",
    "                    validation_steps=10,\n",
    "                    max_queue_size=10,\n",
    "                    workers=1,\n",
    "                    use_multiprocessing=False)"
   ]
  },
  {
   "cell_type": "code",
   "execution_count": null,
   "metadata": {},
   "outputs": [],
   "source": []
  }
 ],
 "metadata": {
  "kernelspec": {
   "display_name": "Python 3",
   "language": "python",
   "name": "python3"
  },
  "language_info": {
   "codemirror_mode": {
    "name": "ipython",
    "version": 3
   },
   "file_extension": ".py",
   "mimetype": "text/x-python",
   "name": "python",
   "nbconvert_exporter": "python",
   "pygments_lexer": "ipython3",
   "version": "3.6.3"
  }
 },
 "nbformat": 4,
 "nbformat_minor": 2
}
