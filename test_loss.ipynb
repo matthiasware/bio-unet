{
 "cells": [
  {
   "cell_type": "code",
   "execution_count": 1,
   "metadata": {},
   "outputs": [],
   "source": [
    "import numpy as np"
   ]
  },
  {
   "cell_type": "code",
   "execution_count": 31,
   "metadata": {},
   "outputs": [],
   "source": [
    "def binary_cross_entropy(Y_true, Y_pred):\n",
    "    return -np.sum(Y_true * np.log(Y_pred) + (1 - Y_true) * np.log(1 - Y_pred)) / Y_true.size"
   ]
  },
  {
   "cell_type": "code",
   "execution_count": 32,
   "metadata": {},
   "outputs": [],
   "source": [
    "def calc_weights(y):\n",
    "    n_ones = np.sum(y)\n",
    "    n_total = y.shape[1]**2\n",
    "    w_ones = 1 - n_ones / n_total\n",
    "    w_zeros = 1 - w_ones\n",
    "    w = y * (w_ones - w_zeros) + w_zeros\n",
    "    return w"
   ]
  },
  {
   "cell_type": "code",
   "execution_count": 33,
   "metadata": {},
   "outputs": [],
   "source": [
    "Y = np.zeros((10, 10))\n",
    "Y[0,0] = 1\n",
    "Y[0, 1] = 1\n",
    "Y[0, 2] = 1\n",
    "Y_true = Y[:]\n",
    "Y_pred = Y * 0 + 0.0000001\n",
    "Y_w = calc_weights(Y_true)"
   ]
  },
  {
   "cell_type": "code",
   "execution_count": 41,
   "metadata": {},
   "outputs": [],
   "source": [
    "Y_true = Y[:]\n",
    "Y_pred = Y * 0 + 0.001\n",
    "Y_pred2 = Y * 0.5 + 0.001"
   ]
  },
  {
   "cell_type": "code",
   "execution_count": 42,
   "metadata": {},
   "outputs": [
    {
     "name": "stdout",
     "output_type": "stream",
     "text": [
      "[[ 1.  1.  1.  0.  0.  0.  0.  0.  0.  0.]\n",
      " [ 0.  0.  0.  0.  0.  0.  0.  0.  0.  0.]\n",
      " [ 0.  0.  0.  0.  0.  0.  0.  0.  0.  0.]\n",
      " [ 0.  0.  0.  0.  0.  0.  0.  0.  0.  0.]\n",
      " [ 0.  0.  0.  0.  0.  0.  0.  0.  0.  0.]\n",
      " [ 0.  0.  0.  0.  0.  0.  0.  0.  0.  0.]\n",
      " [ 0.  0.  0.  0.  0.  0.  0.  0.  0.  0.]\n",
      " [ 0.  0.  0.  0.  0.  0.  0.  0.  0.  0.]\n",
      " [ 0.  0.  0.  0.  0.  0.  0.  0.  0.  0.]\n",
      " [ 0.  0.  0.  0.  0.  0.  0.  0.  0.  0.]]\n",
      "[[ 0.001  0.001  0.001  0.001  0.001  0.001  0.001  0.001  0.001  0.001]\n",
      " [ 0.001  0.001  0.001  0.001  0.001  0.001  0.001  0.001  0.001  0.001]\n",
      " [ 0.001  0.001  0.001  0.001  0.001  0.001  0.001  0.001  0.001  0.001]\n",
      " [ 0.001  0.001  0.001  0.001  0.001  0.001  0.001  0.001  0.001  0.001]\n",
      " [ 0.001  0.001  0.001  0.001  0.001  0.001  0.001  0.001  0.001  0.001]\n",
      " [ 0.001  0.001  0.001  0.001  0.001  0.001  0.001  0.001  0.001  0.001]\n",
      " [ 0.001  0.001  0.001  0.001  0.001  0.001  0.001  0.001  0.001  0.001]\n",
      " [ 0.001  0.001  0.001  0.001  0.001  0.001  0.001  0.001  0.001  0.001]\n",
      " [ 0.001  0.001  0.001  0.001  0.001  0.001  0.001  0.001  0.001  0.001]\n",
      " [ 0.001  0.001  0.001  0.001  0.001  0.001  0.001  0.001  0.001  0.001]]\n",
      "[[ 0.501  0.501  0.501  0.001  0.001  0.001  0.001  0.001  0.001  0.001]\n",
      " [ 0.001  0.001  0.001  0.001  0.001  0.001  0.001  0.001  0.001  0.001]\n",
      " [ 0.001  0.001  0.001  0.001  0.001  0.001  0.001  0.001  0.001  0.001]\n",
      " [ 0.001  0.001  0.001  0.001  0.001  0.001  0.001  0.001  0.001  0.001]\n",
      " [ 0.001  0.001  0.001  0.001  0.001  0.001  0.001  0.001  0.001  0.001]\n",
      " [ 0.001  0.001  0.001  0.001  0.001  0.001  0.001  0.001  0.001  0.001]\n",
      " [ 0.001  0.001  0.001  0.001  0.001  0.001  0.001  0.001  0.001  0.001]\n",
      " [ 0.001  0.001  0.001  0.001  0.001  0.001  0.001  0.001  0.001  0.001]\n",
      " [ 0.001  0.001  0.001  0.001  0.001  0.001  0.001  0.001  0.001  0.001]\n",
      " [ 0.001  0.001  0.001  0.001  0.001  0.001  0.001  0.001  0.001  0.001]]\n"
     ]
    }
   ],
   "source": [
    "print(Y_true)\n",
    "print(Y_pred)\n",
    "print(Y_pred2)"
   ]
  },
  {
   "cell_type": "code",
   "execution_count": 44,
   "metadata": {},
   "outputs": [
    {
     "name": "stdout",
     "output_type": "stream",
     "text": [
      "0.208203143693\n",
      "0.402973628451\n",
      "0.0217049606605\n",
      "0.222695124724\n"
     ]
    }
   ],
   "source": [
    "print(binary_cross_entropy(Y_true, Y_pred))\n",
    "print(binary_cross_entropy(Y_w, Y_pred))\n",
    "print(binary_cross_entropy(Y_true, Y_pred2))\n",
    "print(binary_cross_entropy(Y_w, Y_pred2))"
   ]
  },
  {
   "cell_type": "code",
   "execution_count": null,
   "metadata": {},
   "outputs": [],
   "source": []
  }
 ],
 "metadata": {
  "kernelspec": {
   "display_name": "Python 3",
   "language": "python",
   "name": "python3"
  },
  "language_info": {
   "codemirror_mode": {
    "name": "ipython",
    "version": 3
   },
   "file_extension": ".py",
   "mimetype": "text/x-python",
   "name": "python",
   "nbconvert_exporter": "python",
   "pygments_lexer": "ipython3",
   "version": "3.6.3"
  }
 },
 "nbformat": 4,
 "nbformat_minor": 2
}
