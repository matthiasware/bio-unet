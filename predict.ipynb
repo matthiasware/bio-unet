{
 "cells": [
  {
   "cell_type": "code",
   "execution_count": null,
   "metadata": {},
   "outputs": [],
   "source": [
    "from keras.models import load_model\n",
    "from keras.metrics import binary_accuracy\n",
    "import utils\n",
    "from keras import backend as K\n",
    "import numpy as np\n",
    "from model_03 import get_model\n",
    "import metrics"
   ]
  },
  {
   "cell_type": "code",
   "execution_count": null,
   "metadata": {},
   "outputs": [],
   "source": [
    "img_size = 256\n",
    "n_kernels = 16\n",
    "d_train = \"./data/{}/train/\".format(img_size)\n",
    "d_test = \"./data/{}/test\".format(img_size)\n",
    "f_train = utils.get_files(d_train, verbose=False)\n",
    "f_test = utils.get_files(d_test, verbose=False)\n",
    "n_valid = int(len(f_train) * 0.15)\n",
    "files_valid = f_train[:n_valid]\n",
    "files_train = f_train[n_valid:]\n",
    "f_model = \"loss_model_k16_s256_05_07_2019_18_32_28.h5\"\n",
    "model = get_model(img_size, n_kernels)\n",
    "model.load_weights(f_model)\n",
    "#model = load_model(f_model)"
   ]
  },
  {
   "cell_type": "code",
   "execution_count": null,
   "metadata": {},
   "outputs": [],
   "source": [
    "X_train, Y_train = utils.load_data(f_train)\n",
    "X_test, Y_test = utils.load_data(f_test)"
   ]
  },
  {
   "cell_type": "code",
   "execution_count": null,
   "metadata": {},
   "outputs": [],
   "source": [
    "def visualize_predictions(X, Y, Y_pred, num=10):\n",
    "    for i in range(num):\n",
    "        x = X[i]\n",
    "        y = Y[i].reshape((img_size, img_size))\n",
    "        y_pred = Y_pred[i].reshape(y.shape)\n",
    "        y_round = np.around(y_pred)\n",
    "        utils.show_img(x, y)\n",
    "        utils.show_img(y_pred, y_round)"
   ]
  },
  {
   "cell_type": "code",
   "execution_count": null,
   "metadata": {
    "scrolled": true
   },
   "outputs": [],
   "source": [
    "X_train, Y_train = utils.load_data(f_train)\n",
    "X_train, Y_train = X_train[:20], Y_train[:20]\n",
    "Y_train_pred = model.predict(X_train, verbose=1, batch_size=1)"
   ]
  },
  {
   "cell_type": "code",
   "execution_count": null,
   "metadata": {},
   "outputs": [],
   "source": [
    "metrics.calculate_metrics(Y_train, Y_train_pred)"
   ]
  },
  {
   "cell_type": "code",
   "execution_count": null,
   "metadata": {
    "scrolled": false
   },
   "outputs": [],
   "source": [
    "visualize_predictions(X=X_train, Y=Y_train, Y_pred=Y_train_pred, num=40)"
   ]
  },
  {
   "cell_type": "code",
   "execution_count": null,
   "metadata": {
    "scrolled": true
   },
   "outputs": [],
   "source": [
    "X_test, Y_test = utils.load_data(f_test)\n",
    "X_test, Y_test =  X_test, Y_test\n",
    "Y_test_pred = model.predict(X_test, verbose=1, batch_size=1)"
   ]
  },
  {
   "cell_type": "code",
   "execution_count": null,
   "metadata": {},
   "outputs": [],
   "source": [
    "metrics.calculate_metrics(Y_test, Y_test_pred)"
   ]
  },
  {
   "cell_type": "code",
   "execution_count": null,
   "metadata": {
    "scrolled": false
   },
   "outputs": [],
   "source": [
    "visualize_predictions(X_test, Y_test, Y_test_pred, 63)"
   ]
  },
  {
   "cell_type": "code",
   "execution_count": null,
   "metadata": {},
   "outputs": [],
   "source": [
    "from sklearn.metrics import classification_report, confusion_matrix"
   ]
  },
  {
   "cell_type": "code",
   "execution_count": null,
   "metadata": {},
   "outputs": [],
   "source": [
    "tn, fp, fn, tp = confusion_matrix(Y_test.flatten(), K.eval(K.round(K.variable(Y_test_pred))).flatten()).ravel()\n",
    "s = tn + fp + fn + tp"
   ]
  },
  {
   "cell_type": "code",
   "execution_count": null,
   "metadata": {},
   "outputs": [],
   "source": [
    "print(\"TN: \", tn/s)\n",
    "print(\"TP: \", tp/s)\n",
    "print(\"FN: \", fn/s)\n",
    "print(\"FP: \", fp/s)\n",
    "print(int(np.sum(Y_test)))\n",
    "print(tp + fn)\n",
    "print(tp / (tp + fn))\n",
    "print(int(np.sum(1 - Y_test)))\n",
    "print(tn + fp)\n",
    "print(tn / (tn + fp))\n",
    "print((tn + tp) / s)"
   ]
  },
  {
   "cell_type": "code",
   "execution_count": null,
   "metadata": {},
   "outputs": [],
   "source": [
    "calculate_metrics(Y_test, Y_test_pred)"
   ]
  },
  {
   "cell_type": "code",
   "execution_count": null,
   "metadata": {},
   "outputs": [],
   "source": [
    "Y_test_pred[0].flatten()"
   ]
  },
  {
   "cell_type": "code",
   "execution_count": null,
   "metadata": {},
   "outputs": [],
   "source": [
    "Y_test_pred"
   ]
  },
  {
   "cell_type": "code",
   "execution_count": null,
   "metadata": {},
   "outputs": [],
   "source": []
  }
 ],
 "metadata": {
  "kernelspec": {
   "display_name": "Python 3",
   "language": "python",
   "name": "python3"
  },
  "language_info": {
   "codemirror_mode": {
    "name": "ipython",
    "version": 3
   },
   "file_extension": ".py",
   "mimetype": "text/x-python",
   "name": "python",
   "nbconvert_exporter": "python",
   "pygments_lexer": "ipython3",
   "version": "3.6.3"
  }
 },
 "nbformat": 4,
 "nbformat_minor": 2
}
