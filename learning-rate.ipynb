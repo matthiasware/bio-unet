{
 "cells": [
  {
   "cell_type": "code",
   "execution_count": 1,
   "metadata": {},
   "outputs": [
    {
     "name": "stderr",
     "output_type": "stream",
     "text": [
      "Using TensorFlow backend.\n"
     ]
    }
   ],
   "source": [
    "import utils\n",
    "import numpy as np\n",
    "from model_03 import get_model\n",
    "import losses\n",
    "from keras.callbacks import EarlyStopping, ModelCheckpoint, TensorBoard\n",
    "from keras import optimizers\n",
    "from datetime import datetime\n",
    "import metrics"
   ]
  },
  {
   "cell_type": "code",
   "execution_count": null,
   "metadata": {},
   "outputs": [],
   "source": [
    "img_size = 256\n",
    "n_kernels = 1\n",
    "p_valid = 0.15\n",
    "d_train = \"./data/{}/train/\".format(img_size)\n",
    "files = utils.get_files(d_train, verbose=False)\n",
    "files = files\n",
    "n_valid = int(len(files) * p_valid)\n",
    "files_valid = files[:n_valid]\n",
    "files_train = files[n_valid:]\n",
    "d = datetime.now().strftime(\"%m_%d_%Y_%H_%M_%S\")\n",
    "f_model = \"model_k{}_s{}_{}.h5\".format(str(n_kernels), str(img_size), d)\n",
    "X_train, Y_train = utils.load_data(files_train)\n",
    "X_valid, Y_valid = utils.load_data(files_valid)\n",
    "n_ones = np.sum(Y_train) + np.sum(Y_valid)\n",
    "n_total = np.prod(Y_train.shape) + np.prod(Y_valid.shape)\n",
    "n_zeros = n_total - n_ones\n",
    "weights_zero = n_ones / n_total\n",
    "weights_ones = n_zeros / n_total\n",
    "weights_zero = 0.04\n",
    "weights_ones = 0.96"
   ]
  },
  {
   "cell_type": "code",
   "execution_count": null,
   "metadata": {},
   "outputs": [],
   "source": [
    "model = get_model(img_size, n_kernels)\n",
    "print(model.summary())"
   ]
  },
  {
   "cell_type": "code",
   "execution_count": null,
   "metadata": {},
   "outputs": [],
   "source": [
    "mymetrics = ['accuracy', metrics.acc_zeros, metrics.acc_ones,\n",
    "             metrics.mae_zeros, metrics.mae_ones, metrics.true_positives,\n",
    "             metrics.true_negatives, metrics.false_positives,\n",
    "             metrics.false_negatives]\n",
    "myloss = losses.make_bce_loss(weights_ones, weights_zero)\n",
    "myoptimizer = optimizers.SGD(lr=0.1, decay=1e-6, momentum=0.99, nesterov=True)\n",
    "model.compile(loss=myloss, optimizer=myoptimizer, metrics=mymetrics)"
   ]
  },
  {
   "cell_type": "code",
   "execution_count": null,
   "metadata": {},
   "outputs": [],
   "source": [
    "cb_es = EarlyStopping(monitor='val_loss', patience=10, verbose=1)\n",
    "cb_cp = ModelCheckpoint(f_model, monitor='val_loss',\n",
    "                        save_best_only=True, verbose=1),\n",
    "cb_tb = TensorBoard(log_dir=\"logs/{}\".format(d))\n",
    "callbacks = [cb_cp, cb_tb]"
   ]
  },
  {
   "cell_type": "code",
   "execution_count": null,
   "metadata": {},
   "outputs": [],
   "source": [
    "results = []\n",
    "for lr in [1, 0.1, 0.01, 0.001, 0.0001, 0.00001]:\n",
    "    print(\"*\"*10, str(lr) \"*\"*10, \"\\n\", \"*\"*30)\n",
    "    myoptimizer = optimizers.SGD(lr=lr, momentum=0.0, decay=0.0, nesterov=False)\n",
    "    model.compile(loss=myloss, optimizer=myoptimizer, metrics=mymetrics)\n",
    "    hist = model.fit(x=X_train,\n",
    "                     y=Y_train,\n",
    "                     batch_size=1,\n",
    "                     epochs=X_train.shape[0],\n",
    "                     verbose=2,\n",
    "                     callbacks=callbacks,\n",
    "                     validation_data=(X_valid, Y_valid))\n",
    "    results.append((lr, hist))"
   ]
  },
  {
   "cell_type": "code",
   "execution_count": 13,
   "metadata": {},
   "outputs": [],
   "source": [
    "import matplotlib.pyplot as plt"
   ]
  },
  {
   "cell_type": "code",
   "execution_count": 44,
   "metadata": {},
   "outputs": [
    {
     "name": "stdout",
     "output_type": "stream",
     "text": [
      "[0.0003239611558487378, 0.0003132783636483297, 0.00030291854926351743, 0.0002928730051856496, 0.0002831332223372483, 0.00027369088674456096, 0.0002645378762271032, 0.00025566625710554095, 0.0002470682809292046, 0.0002387363812244706]\n"
     ]
    },
    {
     "data": {
      "image/png": "[encoded data removed]",
      "text/plain": [
       "<matplotlib.figure.Figure at 0x7f3481cb1630>"
      ]
     },
     "metadata": {
      "needs_background": "light"
     },
     "output_type": "display_data"
    }
   ],
   "source": [
    "lr = 0.1\n",
    "decay = 1e-4\n",
    "epochs = list(range(1, 350, 1))\n",
    "lrts = []\n",
    "for e in epochs:\n",
    "    lr = lr * 1/(1 + decay * e) \n",
    "    lrts.append(lr)\n",
    "\n",
    "plt.plot(epochs, lrts)\n",
    "print(lrts[-10:])"
   ]
  },
  {
   "cell_type": "code",
   "execution_count": 30,
   "metadata": {},
   "outputs": [
    {
     "data": {
      "text/plain": [
       "[0.00027369088674456096,\n",
       " 0.0002645378762271032,\n",
       " 0.00025566625710554095,\n",
       " 0.0002470682809292046,\n",
       " 0.0002387363812244706]"
      ]
     },
     "execution_count": 30,
     "metadata": {},
     "output_type": "execute_result"
    }
   ],
   "source": [
    "lrts[-5:]"
   ]
  },
  {
   "cell_type": "code",
   "execution_count": null,
   "metadata": {},
   "outputs": [],
   "source": []
  }
 ],
 "metadata": {
  "kernelspec": {
   "display_name": "Python 3",
   "language": "python",
   "name": "python3"
  },
  "language_info": {
   "codemirror_mode": {
    "name": "ipython",
    "version": 3
   },
   "file_extension": ".py",
   "mimetype": "text/x-python",
   "name": "python",
   "nbconvert_exporter": "python",
   "pygments_lexer": "ipython3",
   "version": "3.6.3"
  }
 },
 "nbformat": 4,
 "nbformat_minor": 2
}
