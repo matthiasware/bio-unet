{
 "cells": [
  {
   "cell_type": "code",
   "execution_count": 1,
   "metadata": {},
   "outputs": [
    {
     "name": "stderr",
     "output_type": "stream",
     "text": [
      "Using TensorFlow backend.\n"
     ]
    }
   ],
   "source": [
    "import tensorflow as tf\n",
    "import numpy as np\n",
    "import losses\n",
    "import preprocess\n",
    "from keras import backend as K"
   ]
  },
  {
   "cell_type": "code",
   "execution_count": null,
   "metadata": {},
   "outputs": [],
   "source": [
    "files = preprocess.get_files(\"data\")\n",
    "X, Y = preprocess.load_data(files)"
   ]
  },
  {
   "cell_type": "code",
   "execution_count": null,
   "metadata": {},
   "outputs": [],
   "source": [
    "n_data, width, height, _ = X.shape"
   ]
  },
  {
   "cell_type": "code",
   "execution_count": null,
   "metadata": {},
   "outputs": [],
   "source": [
    "n_ones = np.sum(Y)\n",
    "n_total = Y.size\n",
    "n_zeros = n_total - n_ones"
   ]
  },
  {
   "cell_type": "code",
   "execution_count": null,
   "metadata": {},
   "outputs": [],
   "source": [
    "print(\"ones:  {:6.4f} \".format(n_ones / n_total))\n",
    "print(\"zeros: {:6.4f} \".format(n_zeros / n_total))"
   ]
  },
  {
   "cell_type": "code",
   "execution_count": 2,
   "metadata": {},
   "outputs": [],
   "source": [
    "sess = tf.Session()\n",
    "K.set_session(sess)"
   ]
  },
  {
   "cell_type": "code",
   "execution_count": 7,
   "metadata": {},
   "outputs": [],
   "source": [
    "bce = losses.make_bce_loss(0.9, 0.1)\n",
    "bce2 = losses.make_bce_loss(0.1, 0.9)"
   ]
  },
  {
   "cell_type": "code",
   "execution_count": 25,
   "metadata": {},
   "outputs": [],
   "source": [
    "y_true = np.array([0,0,0,0,1,0,0,0,0,1])\n",
    "y_pred = np.array([0,0,0,0,1,0,0,0,0,1])"
   ]
  },
  {
   "cell_type": "code",
   "execution_count": 23,
   "metadata": {},
   "outputs": [],
   "source": [
    "y_true = tf.convert_to_tensor(y_true, dtype=np.float32)\n",
    "y_pred = tf.convert_to_tensor(y_pred, dtype=np.float32)"
   ]
  },
  {
   "cell_type": "code",
   "execution_count": 24,
   "metadata": {},
   "outputs": [
    {
     "name": "stdout",
     "output_type": "stream",
     "text": [
      "0.159424\n",
      "0.166667\n",
      "1.43481\n"
     ]
    }
   ],
   "source": [
    "with tf.Session() as sess:\n",
    "    y_true = tf.convert_to_tensor(y_true, dtype=np.float32)\n",
    "    y_pred = tf.convert_to_tensor(y_pred, dtype=np.float32)\n",
    "    r = bce(y_true, y_pred)\n",
    "    r2 = bce2(y_true, y_pred)\n",
    "    r3 = losses.dice_coef_loss(y_true, y_pred).eval()\n",
    "    print(r.eval())\n",
    "    print(r3)\n",
    "    print(r2.eval())"
   ]
  },
  {
   "cell_type": "code",
   "execution_count": null,
   "metadata": {},
   "outputs": [],
   "source": [
    "def binary_cross_entropy(Y_true, Y_pred):\n",
    "    return -np.sum(Y_true * np.log(Y_pred) + (1 - Y_true) * np.log(1 - Y_pred)) / Y_true.size"
   ]
  },
  {
   "cell_type": "code",
   "execution_count": null,
   "metadata": {},
   "outputs": [],
   "source": [
    "def calc_weights(y):\n",
    "    n_ones = np.sum(y)\n",
    "    n_total = y.shape[1]**2\n",
    "    w_ones = 1 - n_ones / n_total\n",
    "    w_zeros = 1 - w_ones\n",
    "    w = y * (w_ones - w_zeros) + w_zeros\n",
    "    return w"
   ]
  },
  {
   "cell_type": "code",
   "execution_count": null,
   "metadata": {},
   "outputs": [],
   "source": [
    "Y = np.zeros((10, 10))\n",
    "Y[0,0] = 1\n",
    "Y[0, 1] = 1\n",
    "Y[0, 2] = 1\n",
    "Y_true = Y[:]\n",
    "Y_pred = Y * 0 + 0.0000001\n",
    "Y_w = calc_weights(Y_true)"
   ]
  },
  {
   "cell_type": "code",
   "execution_count": null,
   "metadata": {},
   "outputs": [],
   "source": [
    "Y_true = Y[:]\n",
    "Y_pred = Y * 0 + 0.001\n",
    "Y_pred2 = Y * 0.5 + 0.001"
   ]
  },
  {
   "cell_type": "code",
   "execution_count": null,
   "metadata": {},
   "outputs": [],
   "source": [
    "print(Y_true)\n",
    "print(Y_w)\n",
    "print(Y_pred)\n",
    "print(Y_pred2)"
   ]
  }
 ],
 "metadata": {
  "kernelspec": {
   "display_name": "Python 3",
   "language": "python",
   "name": "python3"
  },
  "language_info": {
   "codemirror_mode": {
    "name": "ipython",
    "version": 3
   },
   "file_extension": ".py",
   "mimetype": "text/x-python",
   "name": "python",
   "nbconvert_exporter": "python",
   "pygments_lexer": "ipython3",
   "version": "3.6.3"
  }
 },
 "nbformat": 4,
 "nbformat_minor": 2
}
