{
 "cells": [
  {
   "cell_type": "code",
   "execution_count": null,
   "metadata": {},
   "outputs": [],
   "source": [
    "from segmentation_models import Unet\n",
    "from segmentation_models.backbones import get_preprocessing\n",
    "from segmentation_models.losses import bce_jaccard_loss\n",
    "from segmentation_models.metrics import iou_score\n",
    "import pickle\n",
    "import preprocess\n",
    "import splitdata\n",
    "import os\n",
    "import numpy as np"
   ]
  },
  {
   "cell_type": "code",
   "execution_count": null,
   "metadata": {},
   "outputs": [],
   "source": [
    "with open(os.path.join(splitdata.d_data, splitdata.f_train), \"rb\") as file:\n",
    "    files = pickle.load(file)\n",
    "if not files:\n",
    "    raise Exception(\"Could not load training files!\")\n",
    "print(\"Files: \", len(files))\n",
    "\n",
    "np.random.shuffle(files)\n",
    "n_valid = int(np.ceil(len(files) * 0.15))\n",
    "files_train = files[n_valid:]\n",
    "files_valid = files[:n_valid]\n",
    "print(\"Files train: \", len(files_train))\n",
    "print(\"Files valid: \", len(files_valid))\n",
    "\n",
    "X_train, Y_train = preprocess.load_data(files_train)\n",
    "X_valid, Y_valid = preprocess.load_data(files_valid)"
   ]
  },
  {
   "cell_type": "code",
   "execution_count": null,
   "metadata": {},
   "outputs": [],
   "source": [
    "X_train = X_train[:,18:-18,18:-18,:] / 255\n",
    "X_valid = X_valid[:,18:-18,18:-18,:] / 255\n",
    "Y_train = Y_train[:,18:-18,18:-18,:]\n",
    "Y_valid = Y_valid[:,18:-18,18:-18,:]"
   ]
  },
  {
   "cell_type": "code",
   "execution_count": null,
   "metadata": {},
   "outputs": [],
   "source": [
    "preprocess_input = get_preprocessing('resnet34')"
   ]
  },
  {
   "cell_type": "code",
   "execution_count": null,
   "metadata": {},
   "outputs": [],
   "source": [
    "model = Unet('resnet34', classes=2, input_shape=(2048, 2048, 3), activation='sigmoid')\n",
    "model.compile('Adam', loss=bce_jaccard_loss, metrics=[iou_score])"
   ]
  },
  {
   "cell_type": "code",
   "execution_count": null,
   "metadata": {},
   "outputs": [],
   "source": [
    "# fit model\n",
    "model.fit(\n",
    "    x=X_train,\n",
    "    y=Y_train,\n",
    "    batch_size=1,\n",
    "    epochs=10,\n",
    "    validation_data=(X_valid, Y_valid),\n",
    ")"
   ]
  }
 ],
 "metadata": {
  "kernelspec": {
   "display_name": "Python 3",
   "language": "python",
   "name": "python3"
  },
  "language_info": {
   "codemirror_mode": {
    "name": "ipython",
    "version": 3
   },
   "file_extension": ".py",
   "mimetype": "text/x-python",
   "name": "python",
   "nbconvert_exporter": "python",
   "pygments_lexer": "ipython3",
   "version": "3.6.3"
  }
 },
 "nbformat": 4,
 "nbformat_minor": 2
}
