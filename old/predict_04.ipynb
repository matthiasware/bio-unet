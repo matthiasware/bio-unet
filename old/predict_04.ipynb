{
 "cells": [
  {
   "cell_type": "code",
   "execution_count": null,
   "metadata": {},
   "outputs": [],
   "source": [
    "from keras.models import load_model\n",
    "import pickle\n",
    "import splitdata\n",
    "import os\n",
    "import preprocess\n",
    "import numpy as np\n",
    "import preprocess\n",
    "from model_02 import get_model\n",
    "import splitdata\n",
    "import random"
   ]
  },
  {
   "cell_type": "code",
   "execution_count": null,
   "metadata": {},
   "outputs": [],
   "source": [
    "# load model\n",
    "model = get_model(512, 32)\n",
    "model.load_weights(\"model06.h5\")"
   ]
  },
  {
   "cell_type": "code",
   "execution_count": null,
   "metadata": {},
   "outputs": [],
   "source": [
    "files = preprocess.get_split_files(\"data/split\", verbose=False)\n",
    "files = random.choices(files, k=10)"
   ]
  },
  {
   "cell_type": "code",
   "execution_count": null,
   "metadata": {},
   "outputs": [],
   "source": [
    "X, Y = preprocess.load_split_data(files)"
   ]
  },
  {
   "cell_type": "code",
   "execution_count": null,
   "metadata": {},
   "outputs": [],
   "source": [
    "Y_pred = model.predict(X, batch_size=10, verbose=1)"
   ]
  },
  {
   "cell_type": "code",
   "execution_count": null,
   "metadata": {},
   "outputs": [],
   "source": [
    "Y_round = np.around(Y_pred)\n",
    "Y_r = np.around(Y_pred - 0.4)"
   ]
  },
  {
   "cell_type": "code",
   "execution_count": null,
   "metadata": {
    "scrolled": false
   },
   "outputs": [],
   "source": [
    "for i in range(10):\n",
    "    preprocess.show_ndimg(X[i], Y[i])\n",
    "    preprocess.show_ndimg(Y_pred[i], Y_round[i])\n",
    "    preprocess.show_ndimg(Y_pred[i], Y_r[i])"
   ]
  },
  {
   "cell_type": "code",
   "execution_count": null,
   "metadata": {},
   "outputs": [],
   "source": [
    "with open(os.path.join(splitdata.d_data, splitdata.f_train), \"rb\") as file:\n",
    "    files = pickle.load(file)\n",
    "if not files:\n",
    "    raise Exception(\"Could not load training files!\")\n",
    "print(\"Files: \", len(files))"
   ]
  },
  {
   "cell_type": "code",
   "execution_count": null,
   "metadata": {},
   "outputs": [],
   "source": [
    "train_generator = preprocess.dataGenerator(files, batches=1)"
   ]
  },
  {
   "cell_type": "code",
   "execution_count": null,
   "metadata": {
    "scrolled": false
   },
   "outputs": [],
   "source": [
    "for i in range(4):\n",
    "    X, Y = next(train_generator)\n",
    "    Y_pred = model.predict(X, batch_size=1, verbose=1)\n",
    "    Y_round = np.around(Y_pred)\n",
    "    preprocess.show_ndimg(X[0], Y[0])\n",
    "    preprocess.show_ndimg(Y_pred[0], Y_round[0])"
   ]
  },
  {
   "cell_type": "code",
   "execution_count": null,
   "metadata": {},
   "outputs": [],
   "source": []
  }
 ],
 "metadata": {
  "kernelspec": {
   "display_name": "Python 3",
   "language": "python",
   "name": "python3"
  },
  "language_info": {
   "codemirror_mode": {
    "name": "ipython",
    "version": 3
   },
   "file_extension": ".py",
   "mimetype": "text/x-python",
   "name": "python",
   "nbconvert_exporter": "python",
   "pygments_lexer": "ipython3",
   "version": "3.6.3"
  }
 },
 "nbformat": 4,
 "nbformat_minor": 2
}
