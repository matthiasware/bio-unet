{
 "cells": [
  {
   "cell_type": "code",
   "execution_count": 10,
   "metadata": {},
   "outputs": [],
   "source": [
    "import numpy as np \n",
    "import pandas as pd \n",
    "import os\n",
    "import itertools\n",
    "\n",
    "from keras.models import Sequential, Model\n",
    "from keras.layers import Dense, Dropout, Flatten, Conv2D, MaxPooling2D, BatchNormalization, Input, merge, UpSampling2D, Cropping2D, ZeroPadding2D, Reshape, core, Convolution2D, Conv2DTranspose, Concatenate\n",
    "from keras.callbacks import EarlyStopping, ModelCheckpoint, LearningRateScheduler\n",
    "from keras import optimizers\n",
    "from keras import backend as K\n",
    "from keras.optimizers import SGD\n",
    "from keras.layers.merge import concatenate\n",
    "from keras.preprocessing.image import array_to_img\n",
    "from keras.preprocessing.image import load_img\n",
    "\n",
    "from tensorflow.python.keras.callbacks import TensorBoard\n",
    "\n",
    "from sklearn.metrics import fbeta_score\n",
    "from sklearn.model_selection import train_test_split\n",
    "\n",
    "from matplotlib.pyplot import imshow\n",
    "import matplotlib.pyplot as plt\n",
    "\n",
    "import preprocess\n",
    "from model_00 import get_model\n",
    "import pickle\n",
    "import splitdata\n",
    "\n",
    "import keras.backend as K\n",
    "import tensorflow as tf\n",
    "\n",
    "from keras.models import load_model\n",
    "import losses"
   ]
  },
  {
   "cell_type": "code",
   "execution_count": 5,
   "metadata": {},
   "outputs": [
    {
     "name": "stdout",
     "output_type": "stream",
     "text": [
      "Files:  40\n"
     ]
    }
   ],
   "source": [
    "with open(os.path.join(splitdata.d_data, splitdata.f_train), \"rb\") as file:\n",
    "    files = pickle.load(file)\n",
    "if not files:\n",
    "    raise Exception(\"Could not load training files!\")\n",
    "print(\"Files: \", len(files))"
   ]
  },
  {
   "cell_type": "code",
   "execution_count": 6,
   "metadata": {},
   "outputs": [
    {
     "name": "stdout",
     "output_type": "stream",
     "text": [
      "Files train:  34\n",
      "Files valid:  6\n"
     ]
    }
   ],
   "source": [
    "np.random.shuffle(files)\n",
    "n_valid = int(np.ceil(len(files) * 0.15))\n",
    "files_train = files[n_valid:]\n",
    "files_valid = files[:n_valid]\n",
    "print(\"Files train: \", len(files_train))\n",
    "print(\"Files valid: \", len(files_valid))"
   ]
  },
  {
   "cell_type": "code",
   "execution_count": 9,
   "metadata": {},
   "outputs": [
    {
     "name": "stdout",
     "output_type": "stream",
     "text": [
      "__________________________________________________________________________________________________\n",
      "Layer (type)                    Output Shape         Param #     Connected to                     \n",
      "==================================================================================================\n",
      "input_3 (InputLayer)            (None, 2084, 2084, 3 0                                            \n",
      "__________________________________________________________________________________________________\n",
      "conv_1_1 (Conv2D)               (None, 2084, 2084, 1 448         input_3[0][0]                    \n",
      "__________________________________________________________________________________________________\n",
      "conv_2_2 (Conv2D)               (None, 2084, 2084, 1 2320        conv_1_1[0][0]                   \n",
      "__________________________________________________________________________________________________\n",
      "pool_1 (MaxPooling2D)           (None, 1042, 1042, 1 0           conv_2_2[0][0]                   \n",
      "__________________________________________________________________________________________________\n",
      "conv2_1 (Conv2D)                (None, 1042, 1042, 3 4640        pool_1[0][0]                     \n",
      "__________________________________________________________________________________________________\n",
      "conv2_2 (Conv2D)                (None, 1042, 1042, 3 9248        conv2_1[0][0]                    \n",
      "__________________________________________________________________________________________________\n",
      "pool_2 (MaxPooling2D)           (None, 521, 521, 32) 0           conv2_2[0][0]                    \n",
      "__________________________________________________________________________________________________\n",
      "conv_3_1 (Conv2D)               (None, 521, 521, 64) 18496       pool_2[0][0]                     \n",
      "__________________________________________________________________________________________________\n",
      "conv_3_2 (Conv2D)               (None, 521, 521, 64) 36928       conv_3_1[0][0]                   \n",
      "__________________________________________________________________________________________________\n",
      "pool_3 (MaxPooling2D)           (None, 260, 260, 64) 0           conv_3_2[0][0]                   \n",
      "__________________________________________________________________________________________________\n",
      "conv_4_1 (Conv2D)               (None, 260, 260, 128 73856       pool_3[0][0]                     \n",
      "__________________________________________________________________________________________________\n",
      "conv_4_2 (Conv2D)               (None, 260, 260, 128 147584      conv_4_1[0][0]                   \n",
      "__________________________________________________________________________________________________\n",
      "pool_4 (MaxPooling2D)           (None, 130, 130, 128 0           conv_4_2[0][0]                   \n",
      "__________________________________________________________________________________________________\n",
      "conv_5_1 (Conv2D)               (None, 130, 130, 256 295168      pool_4[0][0]                     \n",
      "__________________________________________________________________________________________________\n",
      "conv_5_2 (Conv2D)               (None, 130, 130, 256 590080      conv_5_1[0][0]                   \n",
      "__________________________________________________________________________________________________\n",
      "ups_5 (UpSampling2D)            (None, 260, 260, 256 0           conv_5_2[0][0]                   \n",
      "__________________________________________________________________________________________________\n",
      "conc_5_4 (Concatenate)          (None, 260, 260, 384 0           ups_5[0][0]                      \n",
      "                                                                 conv_4_2[0][0]                   \n",
      "__________________________________________________________________________________________________\n",
      "conv_6_1 (Conv2D)               (None, 260, 260, 128 442496      conc_5_4[0][0]                   \n",
      "__________________________________________________________________________________________________\n",
      "conv_6_2 (Conv2D)               (None, 260, 260, 128 147584      conv_6_1[0][0]                   \n",
      "__________________________________________________________________________________________________\n",
      "ups_6 (UpSampling2D)            (None, 520, 520, 128 0           conv_6_2[0][0]                   \n",
      "__________________________________________________________________________________________________\n",
      "crop_conv_3 (Cropping2D)        (None, 520, 520, 64) 0           conv_3_2[0][0]                   \n",
      "__________________________________________________________________________________________________\n",
      "conc_6_3 (Concatenate)          (None, 520, 520, 192 0           ups_6[0][0]                      \n",
      "                                                                 crop_conv_3[0][0]                \n",
      "__________________________________________________________________________________________________\n",
      "conv_7_1 (Conv2D)               (None, 520, 520, 64) 110656      conc_6_3[0][0]                   \n",
      "__________________________________________________________________________________________________\n",
      "conv_7_2 (Conv2D)               (None, 520, 520, 64) 36928       conv_7_1[0][0]                   \n",
      "__________________________________________________________________________________________________\n",
      "ups_7 (UpSampling2D)            (None, 1040, 1040, 6 0           conv_7_2[0][0]                   \n",
      "__________________________________________________________________________________________________\n",
      "crop_conv_2 (Cropping2D)        (None, 1040, 1040, 3 0           conv2_2[0][0]                    \n",
      "__________________________________________________________________________________________________\n",
      "conc_7_2 (Concatenate)          (None, 1040, 1040, 9 0           ups_7[0][0]                      \n",
      "                                                                 crop_conv_2[0][0]                \n",
      "__________________________________________________________________________________________________\n",
      "conv_8_1 (Conv2D)               (None, 1040, 1040, 3 27680       conc_7_2[0][0]                   \n",
      "__________________________________________________________________________________________________\n",
      "conv_8_2 (Conv2D)               (None, 1040, 1040, 3 9248        conv_8_1[0][0]                   \n",
      "__________________________________________________________________________________________________\n",
      "ups_8 (UpSampling2D)            (None, 2080, 2080, 3 0           conv_8_2[0][0]                   \n",
      "__________________________________________________________________________________________________\n",
      "crop_conv_1 (Cropping2D)        (None, 2080, 2080, 1 0           conv_2_2[0][0]                   \n",
      "__________________________________________________________________________________________________\n",
      "conc_8_1 (Concatenate)          (None, 2080, 2080, 4 0           ups_8[0][0]                      \n",
      "                                                                 crop_conv_1[0][0]                \n",
      "__________________________________________________________________________________________________\n",
      "conv_9_1 (Conv2D)               (None, 2080, 2080, 1 6928        conc_8_1[0][0]                   \n",
      "__________________________________________________________________________________________________\n",
      "conv_9_2 (Conv2D)               (None, 2080, 2080, 1 2320        conv_9_1[0][0]                   \n",
      "__________________________________________________________________________________________________\n",
      "0pad (ZeroPadding2D)            (None, 2084, 2084, 1 0           conv_9_2[0][0]                   \n",
      "__________________________________________________________________________________________________\n",
      "conv_10 (Conv2D)                (None, 2084, 2084, 1 17          0pad[0][0]                       \n",
      "==================================================================================================\n",
      "Total params: 1,962,625\n",
      "Trainable params: 1,962,625\n",
      "Non-trainable params: 0\n",
      "__________________________________________________________________________________________________\n",
      "None\n"
     ]
    }
   ],
   "source": [
    "model = get_model(n_kernels=2, img_height=2084, img_width=2084)\n",
    "print(model.summary())"
   ]
  },
  {
   "cell_type": "code",
   "execution_count": 5,
   "metadata": {},
   "outputs": [],
   "source": [
    "model.compile(loss=losses.weighted_binary_crossentropy,\n",
    "              optimizer=optimizers.SGD(lr=0.01, decay=1e-6, momentum=0.98, nesterov=True),\n",
    "              metrics=['accuracy'])\n",
    "#K.get_session().run(tf.global_variables_initializer())\n",
    "#tensorboard = TensorBoard(log_dir=\"logs\") \n",
    "callbacks = [\n",
    "             EarlyStopping(monitor='val_loss',\n",
    "                           patience=4,\n",
    "                           verbose=1),\n",
    "             ModelCheckpoint(\"model02.h5\",\n",
    "                             monitor='val_loss',\n",
    "                             save_best_only=True,\n",
    "                             verbose=1)]\n",
    "train_generator = preprocess.dataGenerator(files_train, batches=1)\n",
    "valid_generator = preprocess.dataGenerator(files_valid, batches=1)\n",
    "p_weights = \"model02.h5\""
   ]
  },
  {
   "cell_type": "code",
   "execution_count": null,
   "metadata": {},
   "outputs": [],
   "source": [
    "# batch_size determines the number of samples in each mini batch\n",
    "# steps_per_epoch the number of batch iterations before a training epoch is considered finished.\n",
    "# validation_steps\n",
    "if os.path.isfile(p_weights) and True:\n",
    "    model.load_weights(p_weights)\n",
    "hist = model.fit_generator(generator=train_generator,\n",
    "                    steps_per_epoch=10,\n",
    "                    epochs=20,\n",
    "                    verbose=2,\n",
    "                    callbacks=callbacks,\n",
    "                    validation_data=valid_generator,\n",
    "                    validation_steps=6,\n",
    "                    max_queue_size=2)"
   ]
  },
  {
   "cell_type": "code",
   "execution_count": null,
   "metadata": {},
   "outputs": [],
   "source": [
    "training_loss = hist.history['loss']\n",
    "test_loss = hist.history['val_loss']\n",
    "\n",
    "epoch_count = range(1, len(training_loss) + 1)\n",
    "\n",
    "plt.plot(epoch_count, training_loss, 'r--')\n",
    "plt.plot(epoch_count, test_loss, 'b-')\n",
    "plt.legend(['Training Loss', 'Validation Loss'])\n",
    "plt.xlabel('Epoch')\n",
    "plt.ylabel('Loss')\n",
    "plt.show();"
   ]
  },
  {
   "cell_type": "code",
   "execution_count": null,
   "metadata": {},
   "outputs": [],
   "source": [
    "with open(os.path.join(splitdata.d_data, splitdata.f_test), \"rb\") as file:\n",
    "    files_test = pickle.load(file)\n",
    "if not files_test:\n",
    "    raise Exception(\"Could not load training files!\")"
   ]
  },
  {
   "cell_type": "code",
   "execution_count": null,
   "metadata": {},
   "outputs": [],
   "source": [
    "X_test, Y_test = preprocess.load_data(files_test)\n",
    "X_test = X_test / 255"
   ]
  },
  {
   "cell_type": "code",
   "execution_count": null,
   "metadata": {},
   "outputs": [],
   "source": [
    "Y_pred = model.predict(X_test, batch_size=1, verbose=1)\n",
    "Y_round = np.around(Y_pred)"
   ]
  },
  {
   "cell_type": "code",
   "execution_count": null,
   "metadata": {
    "scrolled": false
   },
   "outputs": [],
   "source": [
    "for i in range(Y_pred.shape[0]):\n",
    "    preprocess.show_ndimg(X_test[i], Y_test[i])\n",
    "    preprocess.show_ndimg(Y_pred[i], Y_round[i])"
   ]
  },
  {
   "cell_type": "code",
   "execution_count": null,
   "metadata": {},
   "outputs": [],
   "source": []
  }
 ],
 "metadata": {
  "kernelspec": {
   "display_name": "Python 3",
   "language": "python",
   "name": "python3"
  },
  "language_info": {
   "codemirror_mode": {
    "name": "ipython",
    "version": 3
   },
   "file_extension": ".py",
   "mimetype": "text/x-python",
   "name": "python",
   "nbconvert_exporter": "python",
   "pygments_lexer": "ipython3",
   "version": "3.6.3"
  }
 },
 "nbformat": 4,
 "nbformat_minor": 2
}
