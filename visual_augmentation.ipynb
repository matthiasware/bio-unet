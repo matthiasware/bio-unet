{
 "cells": [
  {
   "cell_type": "code",
   "execution_count": null,
   "metadata": {},
   "outputs": [],
   "source": [
    "import utils\n",
    "import augment\n",
    "import imageio"
   ]
  },
  {
   "cell_type": "code",
   "execution_count": null,
   "metadata": {},
   "outputs": [],
   "source": [
    "d_train = \"/home/matthias/projects/bio-unet/data/256/train\"\n",
    "d_test = \"/home/matthias/projects/bio-unet/data/256/test\""
   ]
  },
  {
   "cell_type": "code",
   "execution_count": null,
   "metadata": {},
   "outputs": [],
   "source": [
    "files = utils.get_files(d_test, verbose=False)\n",
    "print(files[0:10])"
   ]
  },
  {
   "cell_type": "code",
   "execution_count": null,
   "metadata": {
    "scrolled": false
   },
   "outputs": [],
   "source": [
    "x = imageio.imread(\"/home/matthias/projects/bio-unet/data/512/test/11_x.png\")\n",
    "y = imageio.imread(\"/home/matthias/projects/bio-unet/data/512/test/11_y.png\")\n",
    "utils.show_img(x, y)\n",
    "y = y.reshape((*y.shape, 1))\n",
    "for i in range(7):\n",
    "    xa = augment.augmentation(x, i)\n",
    "    ya = augment.augmentation(y, i)\n",
    "    ya = ya.reshape(ya.shape[:-1])\n",
    "    utils.show_img(xa, ya)"
   ]
  },
  {
   "cell_type": "code",
   "execution_count": null,
   "metadata": {
    "scrolled": false
   },
   "outputs": [],
   "source": [
    "batches = 20\n",
    "dg = augment.dataGenerator(files,batches=batches, normalize=True, augment=True)\n",
    "X, Y = next(dg)\n",
    "X, Y = next(dg)\n",
    "for j in range(batches):\n",
    "    x = X[j][:]\n",
    "    y = Y[j][:]\n",
    "    y = y.reshape(y.shape[:-1])\n",
    "    z = y > 0\n",
    "    x[z] = 0\n",
    "    utils.show_img(x, y)"
   ]
  },
  {
   "cell_type": "code",
   "execution_count": null,
   "metadata": {},
   "outputs": [],
   "source": []
  }
 ],
 "metadata": {
  "kernelspec": {
   "display_name": "Python 3",
   "language": "python",
   "name": "python3"
  },
  "language_info": {
   "codemirror_mode": {
    "name": "ipython",
    "version": 3
   },
   "file_extension": ".py",
   "mimetype": "text/x-python",
   "name": "python",
   "nbconvert_exporter": "python",
   "pygments_lexer": "ipython3",
   "version": "3.6.3"
  }
 },
 "nbformat": 4,
 "nbformat_minor": 2
}
